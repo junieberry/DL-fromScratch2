{
  "nbformat": 4,
  "nbformat_minor": 0,
  "metadata": {
    "colab": {
      "name": "CrushProject.ipynb",
      "provenance": [],
      "mount_file_id": "1hDeyXECxLRDC7QZ9s5x_lGO8yP9SR8cc",
      "authorship_tag": "ABX9TyOeAI01upcxkjjP80bJpx6E",
      "include_colab_link": true
    },
    "kernelspec": {
      "name": "python3",
      "display_name": "Python 3"
    },
    "language_info": {
      "name": "python"
    }
  },
  "cells": [
    {
      "cell_type": "markdown",
      "metadata": {
        "id": "view-in-github",
        "colab_type": "text"
      },
      "source": [
        "<a href=\"https://colab.research.google.com/github/junieberry/DL-fromScratch2/blob/main/TermProject/CrushProject.ipynb\" target=\"_parent\"><img src=\"https://colab.research.google.com/assets/colab-badge.svg\" alt=\"Open In Colab\"/></a>"
      ]
    },
    {
      "cell_type": "markdown",
      "metadata": {
        "id": "B9GoVu6WhS_w"
      },
      "source": [
        "# NLP Project: 대학생처럼 말해보기 - 짝사랑편"
      ]
    },
    {
      "cell_type": "code",
      "metadata": {
        "colab": {
          "base_uri": "https://localhost:8080/"
        },
        "id": "Dovt9HKvsYsB",
        "outputId": "3e277d5d-1fe1-4e53-8d3d-2776ef36e23b"
      },
      "source": [
        "cd /content/drive/MyDrive/Colab Notebooks/TermProject"
      ],
      "execution_count": null,
      "outputs": [
        {
          "output_type": "stream",
          "text": [
            "/content/drive/MyDrive/Colab Notebooks/TermProject\n"
          ],
          "name": "stdout"
        }
      ]
    },
    {
      "cell_type": "code",
      "metadata": {
        "id": "Hpry_1VCf1-J",
        "colab": {
          "base_uri": "https://localhost:8080/"
        },
        "outputId": "2e297ff5-a708-46cb-cebe-33ad39941c64"
      },
      "source": [
        "!pip install konlpy\n",
        "%env JAVA_HOME \"C:\\Program Files\\Java\\jdk-14.0.2\""
      ],
      "execution_count": null,
      "outputs": [
        {
          "output_type": "stream",
          "text": [
            "Collecting konlpy\n",
            "  Downloading konlpy-0.5.2-py2.py3-none-any.whl (19.4 MB)\n",
            "\u001b[K     |████████████████████████████████| 19.4 MB 45.9 MB/s \n",
            "\u001b[?25hCollecting JPype1>=0.7.0\n",
            "  Downloading JPype1-1.3.0-cp37-cp37m-manylinux_2_5_x86_64.manylinux1_x86_64.whl (448 kB)\n",
            "\u001b[K     |████████████████████████████████| 448 kB 53.6 MB/s \n",
            "\u001b[?25hCollecting beautifulsoup4==4.6.0\n",
            "  Downloading beautifulsoup4-4.6.0-py3-none-any.whl (86 kB)\n",
            "\u001b[K     |████████████████████████████████| 86 kB 5.1 MB/s \n",
            "\u001b[?25hRequirement already satisfied: lxml>=4.1.0 in /usr/local/lib/python3.7/dist-packages (from konlpy) (4.2.6)\n",
            "Requirement already satisfied: numpy>=1.6 in /usr/local/lib/python3.7/dist-packages (from konlpy) (1.19.5)\n",
            "Collecting colorama\n",
            "  Downloading colorama-0.4.4-py2.py3-none-any.whl (16 kB)\n",
            "Requirement already satisfied: tweepy>=3.7.0 in /usr/local/lib/python3.7/dist-packages (from konlpy) (3.10.0)\n",
            "Requirement already satisfied: typing-extensions in /usr/local/lib/python3.7/dist-packages (from JPype1>=0.7.0->konlpy) (3.7.4.3)\n",
            "Requirement already satisfied: requests-oauthlib>=0.7.0 in /usr/local/lib/python3.7/dist-packages (from tweepy>=3.7.0->konlpy) (1.3.0)\n",
            "Requirement already satisfied: six>=1.10.0 in /usr/local/lib/python3.7/dist-packages (from tweepy>=3.7.0->konlpy) (1.15.0)\n",
            "Requirement already satisfied: requests[socks]>=2.11.1 in /usr/local/lib/python3.7/dist-packages (from tweepy>=3.7.0->konlpy) (2.23.0)\n",
            "Requirement already satisfied: oauthlib>=3.0.0 in /usr/local/lib/python3.7/dist-packages (from requests-oauthlib>=0.7.0->tweepy>=3.7.0->konlpy) (3.1.1)\n",
            "Requirement already satisfied: urllib3!=1.25.0,!=1.25.1,<1.26,>=1.21.1 in /usr/local/lib/python3.7/dist-packages (from requests[socks]>=2.11.1->tweepy>=3.7.0->konlpy) (1.24.3)\n",
            "Requirement already satisfied: certifi>=2017.4.17 in /usr/local/lib/python3.7/dist-packages (from requests[socks]>=2.11.1->tweepy>=3.7.0->konlpy) (2021.5.30)\n",
            "Requirement already satisfied: idna<3,>=2.5 in /usr/local/lib/python3.7/dist-packages (from requests[socks]>=2.11.1->tweepy>=3.7.0->konlpy) (2.10)\n",
            "Requirement already satisfied: chardet<4,>=3.0.2 in /usr/local/lib/python3.7/dist-packages (from requests[socks]>=2.11.1->tweepy>=3.7.0->konlpy) (3.0.4)\n",
            "Requirement already satisfied: PySocks!=1.5.7,>=1.5.6 in /usr/local/lib/python3.7/dist-packages (from requests[socks]>=2.11.1->tweepy>=3.7.0->konlpy) (1.7.1)\n",
            "Installing collected packages: JPype1, colorama, beautifulsoup4, konlpy\n",
            "  Attempting uninstall: beautifulsoup4\n",
            "    Found existing installation: beautifulsoup4 4.6.3\n",
            "    Uninstalling beautifulsoup4-4.6.3:\n",
            "      Successfully uninstalled beautifulsoup4-4.6.3\n",
            "Successfully installed JPype1-1.3.0 beautifulsoup4-4.6.0 colorama-0.4.4 konlpy-0.5.2\n",
            "env: JAVA_HOME=\"C:\\Program Files\\Java\\jdk-14.0.2\"\n"
          ],
          "name": "stdout"
        }
      ]
    },
    {
      "cell_type": "code",
      "metadata": {
        "id": "H9dDHE5JiC0c"
      },
      "source": [
        "import numpy as np\n",
        "import pandas as pd\n",
        "\n",
        "import re\n",
        "import konlpy\n",
        "from konlpy.tag import Okt\n",
        "import tensorflow as tf\n",
        "from tensorflow.keras.preprocessing.text import Tokenizer\n",
        "from tensorflow.keras.preprocessing.sequence import pad_sequences\n",
        "import matplotlib.pyplot as plt\n",
        "\n",
        "from sklearn.model_selection import train_test_split\n",
        "import tensorflow_datasets as tfds"
      ],
      "execution_count": null,
      "outputs": []
    },
    {
      "cell_type": "markdown",
      "metadata": {
        "id": "cUve8vAehtfu"
      },
      "source": [
        "## 데이터 전처리\n",
        "\n",
        "**데이터 정보**\n",
        "\n",
        "id : 데이터 아이디\n",
        "\n",
        "input : 에브리타임 게시글 본문\n",
        "\n",
        "output : 에브리타임 게시글 댓글 목록"
      ]
    },
    {
      "cell_type": "code",
      "metadata": {
        "colab": {
          "base_uri": "https://localhost:8080/",
          "height": 595
        },
        "id": "ZowzmPu-q3OY",
        "outputId": "50269af1-33cf-4a48-f9a7-8205e24ed2be"
      },
      "source": [
        "data = pd.read_csv(\"output.csv\")\n",
        "data"
      ],
      "execution_count": null,
      "outputs": [
        {
          "output_type": "execute_result",
          "data": {
            "text/html": [
              "<div>\n",
              "<style scoped>\n",
              "    .dataframe tbody tr th:only-of-type {\n",
              "        vertical-align: middle;\n",
              "    }\n",
              "\n",
              "    .dataframe tbody tr th {\n",
              "        vertical-align: top;\n",
              "    }\n",
              "\n",
              "    .dataframe thead th {\n",
              "        text-align: right;\n",
              "    }\n",
              "</style>\n",
              "<table border=\"1\" class=\"dataframe\">\n",
              "  <thead>\n",
              "    <tr style=\"text-align: right;\">\n",
              "      <th></th>\n",
              "      <th>id</th>\n",
              "      <th>input</th>\n",
              "      <th>output</th>\n",
              "    </tr>\n",
              "  </thead>\n",
              "  <tbody>\n",
              "    <tr>\n",
              "      <th>0</th>\n",
              "      <td>1</td>\n",
              "      <td>&lt;p class=\"large\"&gt;그 때 일은 미안해&lt;br/&gt;많이 반성하고 있어&lt;br/...</td>\n",
              "      <td>NaN</td>\n",
              "    </tr>\n",
              "    <tr>\n",
              "      <th>1</th>\n",
              "      <td>2</td>\n",
              "      <td>&lt;p class=\"large\"&gt;난 늘 같은 마음인데 표현이 부족했던 것 같아&lt;br/...</td>\n",
              "      <td>NaN</td>\n",
              "    </tr>\n",
              "    <tr>\n",
              "      <th>2</th>\n",
              "      <td>3</td>\n",
              "      <td>&lt;p class=\"large\"&gt;널 좋아하는 내 모습은&lt;br/&gt;내가 원하던 내 모습이...</td>\n",
              "      <td>NaN</td>\n",
              "    </tr>\n",
              "    <tr>\n",
              "      <th>3</th>\n",
              "      <td>4</td>\n",
              "      <td>&lt;p class=\"large\"&gt;오랫동안 했던 짝사랑이 끝났어&lt;br/&gt;정말 많이 좋아...</td>\n",
              "      <td>NaN</td>\n",
              "    </tr>\n",
              "    <tr>\n",
              "      <th>4</th>\n",
              "      <td>5</td>\n",
              "      <td>&lt;p class=\"large\"&gt;어제 또또 그인간이 내 프로필 본 티 팍팍 내길래 너...</td>\n",
              "      <td>걍 친삭하셉 영구저4으로 못보게 프로필 차단 안해써? 했는데 그야말로 xx발광을 하...</td>\n",
              "    </tr>\n",
              "    <tr>\n",
              "      <th>...</th>\n",
              "      <td>...</td>\n",
              "      <td>...</td>\n",
              "      <td>...</td>\n",
              "    </tr>\n",
              "    <tr>\n",
              "      <th>3832</th>\n",
              "      <td>3833</td>\n",
              "      <td>&lt;p class=\"large\"&gt;심상치 않은 징조,&lt;br/&gt;심장은 보다 신속.&lt;br/...</td>\n",
              "      <td>거절하겠다 그래서 출석은 언젠대 와 부럽다 아재</td>\n",
              "    </tr>\n",
              "    <tr>\n",
              "      <th>3833</th>\n",
              "      <td>3834</td>\n",
              "      <td>&lt;p class=\"large\"&gt;하루에도 몇번씩 데이터 끄고 톡 너가 읽었는지 안읽었...</td>\n",
              "      <td>내가 좋아하는사람은 계속 안읽으셔 ㅠ 데이터 키고 확인하면 안뎌? 그럴일 없는거 알...</td>\n",
              "    </tr>\n",
              "    <tr>\n",
              "      <th>3834</th>\n",
              "      <td>3835</td>\n",
              "      <td>&lt;p class=\"large\"&gt;다시 만날 일 없는 너랑 행복회로 돌리는 날 발견해버...</td>\n",
              "      <td>왜 만난일 없냐 접점이 전혀 없거든 그래도 맘속에 썩히긴 아깝잖아 ㅠㅠ 하지만 전혀...</td>\n",
              "    </tr>\n",
              "    <tr>\n",
              "      <th>3835</th>\n",
              "      <td>3836</td>\n",
              "      <td>&lt;p class=\"large\"&gt;번호 따인건 난데&lt;br/&gt;내가 더 빠져버렸네&lt;/p&gt;</td>\n",
              "      <td>그래도 좋겠다 연락만 잘하면 되니까</td>\n",
              "    </tr>\n",
              "    <tr>\n",
              "      <th>3836</th>\n",
              "      <td>3837</td>\n",
              "      <td>&lt;p class=\"large\"&gt;어휴 3개월마다 한명씩 바뀌네 병신같은 금사빠&lt;/p&gt;</td>\n",
              "      <td>가장 최근사람에서 두번째에 고백 ㄱ 차라리 그게 훨씬낫지... 짝사랑 길어지면 답도...</td>\n",
              "    </tr>\n",
              "  </tbody>\n",
              "</table>\n",
              "<p>3837 rows × 3 columns</p>\n",
              "</div>"
            ],
            "text/plain": [
              "        id  ...                                             output\n",
              "0        1  ...                                                NaN\n",
              "1        2  ...                                                NaN\n",
              "2        3  ...                                                NaN\n",
              "3        4  ...                                                NaN\n",
              "4        5  ...  걍 친삭하셉 영구저4으로 못보게 프로필 차단 안해써? 했는데 그야말로 xx발광을 하...\n",
              "...    ...  ...                                                ...\n",
              "3832  3833  ...                         거절하겠다 그래서 출석은 언젠대 와 부럽다 아재\n",
              "3833  3834  ...  내가 좋아하는사람은 계속 안읽으셔 ㅠ 데이터 키고 확인하면 안뎌? 그럴일 없는거 알...\n",
              "3834  3835  ...  왜 만난일 없냐 접점이 전혀 없거든 그래도 맘속에 썩히긴 아깝잖아 ㅠㅠ 하지만 전혀...\n",
              "3835  3836  ...                                그래도 좋겠다 연락만 잘하면 되니까\n",
              "3836  3837  ...  가장 최근사람에서 두번째에 고백 ㄱ 차라리 그게 훨씬낫지... 짝사랑 길어지면 답도...\n",
              "\n",
              "[3837 rows x 3 columns]"
            ]
          },
          "metadata": {},
          "execution_count": 6
        }
      ]
    },
    {
      "cell_type": "markdown",
      "metadata": {
        "id": "zY8nVIP0xlST"
      },
      "source": [
        "### input 중복 제거"
      ]
    },
    {
      "cell_type": "code",
      "metadata": {
        "colab": {
          "base_uri": "https://localhost:8080/"
        },
        "id": "20ecL0xKsAd3",
        "outputId": "f33ce09f-7e90-479f-8a4c-24028793d571"
      },
      "source": [
        "print(data['id'].nunique(), data['input'].nunique(), data['output'].nunique())\n",
        "data.drop_duplicates(subset=['input'],inplace=True)\n",
        "print(len(data))"
      ],
      "execution_count": null,
      "outputs": [
        {
          "output_type": "stream",
          "text": [
            "3806 3805 2726\n"
          ],
          "name": "stdout"
        }
      ]
    },
    {
      "cell_type": "markdown",
      "metadata": {
        "id": "c8OBV2FnyZ25"
      },
      "source": [
        "### 정규표현식 사용해 한글만 남기기"
      ]
    },
    {
      "cell_type": "code",
      "metadata": {
        "colab": {
          "base_uri": "https://localhost:8080/",
          "height": 543
        },
        "id": "BrsjfdyLxnUE",
        "outputId": "b2f8410c-7c7f-43c2-8f88-59a3511b2eda"
      },
      "source": [
        "data['input'],data['output'] = data['input'].str.replace(\"[^ㄱ-ㅎㅏ-ㅣ가-힣 ]\",\"\"), data['output'].str.replace(\"[^ㄱ-ㅎㅏ-ㅣ가-힣 ]\",\" \")\n",
        "data"
      ],
      "execution_count": null,
      "outputs": [
        {
          "output_type": "execute_result",
          "data": {
            "text/html": [
              "<div>\n",
              "<style scoped>\n",
              "    .dataframe tbody tr th:only-of-type {\n",
              "        vertical-align: middle;\n",
              "    }\n",
              "\n",
              "    .dataframe tbody tr th {\n",
              "        vertical-align: top;\n",
              "    }\n",
              "\n",
              "    .dataframe thead th {\n",
              "        text-align: right;\n",
              "    }\n",
              "</style>\n",
              "<table border=\"1\" class=\"dataframe\">\n",
              "  <thead>\n",
              "    <tr style=\"text-align: right;\">\n",
              "      <th></th>\n",
              "      <th>id</th>\n",
              "      <th>input</th>\n",
              "      <th>output</th>\n",
              "    </tr>\n",
              "  </thead>\n",
              "  <tbody>\n",
              "    <tr>\n",
              "      <th>4</th>\n",
              "      <td>5</td>\n",
              "      <td>어제 또또 그인간이 내 프로필 본 티 팍팍 내길래 너...</td>\n",
              "      <td>걍 친삭하셉 영구저 으로 못보게 프로필 차단 안해써  했는데 그야말로   발광을 하...</td>\n",
              "    </tr>\n",
              "    <tr>\n",
              "      <th>5</th>\n",
              "      <td>6</td>\n",
              "      <td>아 ㅈ댓다          만나서 하하호호 밥먹을땐 ...</td>\n",
              "      <td>한벚 더 만나자고 기긱기기 상대쪽이 카톡 먼저 끝내버려서 바로 또 연락하기도 애매해...</td>\n",
              "    </tr>\n",
              "    <tr>\n",
              "      <th>6</th>\n",
              "      <td>7</td>\n",
              "      <td>우리의 사랑은 특별한 줄 알았지</td>\n",
              "      <td>안특별하면 뭐어때  뭐때메 안특별한데</td>\n",
              "    </tr>\n",
              "    <tr>\n",
              "      <th>7</th>\n",
              "      <td>8</td>\n",
              "      <td>이 글을 네가 보게 될지 모르겠지만 그냥 술먹고 너 ...</td>\n",
              "      <td>미친 눈물나 와 이런 사랑 아프겠지만 해보고 싶다 와따시모  ㅠ진짜 저런 사랑하면 ...</td>\n",
              "    </tr>\n",
              "    <tr>\n",
              "      <th>8</th>\n",
              "      <td>9</td>\n",
              "      <td>난 느낌이 좋으면 아무것도 몰라도 마냥 좋은데    ...</td>\n",
              "      <td>너가 다가가야지  그럼 조금만 기다려쥬 ㅇㅈ 너가 좋아하면 너가 다가가야지 상대방은...</td>\n",
              "    </tr>\n",
              "    <tr>\n",
              "      <th>...</th>\n",
              "      <td>...</td>\n",
              "      <td>...</td>\n",
              "      <td>...</td>\n",
              "    </tr>\n",
              "    <tr>\n",
              "      <th>3832</th>\n",
              "      <td>3833</td>\n",
              "      <td>심상치 않은 징조      심장은 보다 신속     ...</td>\n",
              "      <td>거절하겠다 그래서 출석은 언젠대 와 부럽다 아재</td>\n",
              "    </tr>\n",
              "    <tr>\n",
              "      <th>3833</th>\n",
              "      <td>3834</td>\n",
              "      <td>하루에도 몇번씩 데이터 끄고 톡 너가 읽었는지 안읽었...</td>\n",
              "      <td>내가 좋아하는사람은 계속 안읽으셔 ㅠ 데이터 키고 확인하면 안뎌  그럴일 없는거 알...</td>\n",
              "    </tr>\n",
              "    <tr>\n",
              "      <th>3834</th>\n",
              "      <td>3835</td>\n",
              "      <td>다시 만날 일 없는 너랑 행복회로 돌리는 날 발견해버...</td>\n",
              "      <td>왜 만난일 없냐 접점이 전혀 없거든 그래도 맘속에 썩히긴 아깝잖아 ㅠㅠ 하지만 전혀...</td>\n",
              "    </tr>\n",
              "    <tr>\n",
              "      <th>3835</th>\n",
              "      <td>3836</td>\n",
              "      <td>번호 따인건 난데     내가 더 빠져버렸네</td>\n",
              "      <td>그래도 좋겠다 연락만 잘하면 되니까</td>\n",
              "    </tr>\n",
              "    <tr>\n",
              "      <th>3836</th>\n",
              "      <td>3837</td>\n",
              "      <td>어휴  개월마다 한명씩 바뀌네 병신같은 금사빠</td>\n",
              "      <td>가장 최근사람에서 두번째에 고백 ㄱ 차라리 그게 훨씬낫지    짝사랑 길어지면 답도...</td>\n",
              "    </tr>\n",
              "  </tbody>\n",
              "</table>\n",
              "<p>2767 rows × 3 columns</p>\n",
              "</div>"
            ],
            "text/plain": [
              "        id  ...                                             output\n",
              "4        5  ...  걍 친삭하셉 영구저 으로 못보게 프로필 차단 안해써  했는데 그야말로   발광을 하...\n",
              "5        6  ...  한벚 더 만나자고 기긱기기 상대쪽이 카톡 먼저 끝내버려서 바로 또 연락하기도 애매해...\n",
              "6        7  ...                             안특별하면 뭐어때  뭐때메 안특별한데  \n",
              "7        8  ...  미친 눈물나 와 이런 사랑 아프겠지만 해보고 싶다 와따시모  ㅠ진짜 저런 사랑하면 ...\n",
              "8        9  ...  너가 다가가야지  그럼 조금만 기다려쥬 ㅇㅈ 너가 좋아하면 너가 다가가야지 상대방은...\n",
              "...    ...  ...                                                ...\n",
              "3832  3833  ...                         거절하겠다 그래서 출석은 언젠대 와 부럽다 아재\n",
              "3833  3834  ...  내가 좋아하는사람은 계속 안읽으셔 ㅠ 데이터 키고 확인하면 안뎌  그럴일 없는거 알...\n",
              "3834  3835  ...  왜 만난일 없냐 접점이 전혀 없거든 그래도 맘속에 썩히긴 아깝잖아 ㅠㅠ 하지만 전혀...\n",
              "3835  3836  ...                                그래도 좋겠다 연락만 잘하면 되니까\n",
              "3836  3837  ...  가장 최근사람에서 두번째에 고백 ㄱ 차라리 그게 훨씬낫지    짝사랑 길어지면 답도...\n",
              "\n",
              "[2767 rows x 3 columns]"
            ]
          },
          "metadata": {},
          "execution_count": 37
        }
      ]
    },
    {
      "cell_type": "markdown",
      "metadata": {
        "id": "8-MyoGd0zwhL"
      },
      "source": [
        "### 널 값 삭제"
      ]
    },
    {
      "cell_type": "code",
      "metadata": {
        "colab": {
          "base_uri": "https://localhost:8080/",
          "height": 543
        },
        "id": "GL-pcoPnzx4a",
        "outputId": "f0d1c2c5-23eb-4fcd-f45f-d8b240a59cd6"
      },
      "source": [
        "data = data.dropna(how = 'any')\n",
        "data"
      ],
      "execution_count": null,
      "outputs": [
        {
          "output_type": "execute_result",
          "data": {
            "text/html": [
              "<div>\n",
              "<style scoped>\n",
              "    .dataframe tbody tr th:only-of-type {\n",
              "        vertical-align: middle;\n",
              "    }\n",
              "\n",
              "    .dataframe tbody tr th {\n",
              "        vertical-align: top;\n",
              "    }\n",
              "\n",
              "    .dataframe thead th {\n",
              "        text-align: right;\n",
              "    }\n",
              "</style>\n",
              "<table border=\"1\" class=\"dataframe\">\n",
              "  <thead>\n",
              "    <tr style=\"text-align: right;\">\n",
              "      <th></th>\n",
              "      <th>id</th>\n",
              "      <th>input</th>\n",
              "      <th>output</th>\n",
              "    </tr>\n",
              "  </thead>\n",
              "  <tbody>\n",
              "    <tr>\n",
              "      <th>4</th>\n",
              "      <td>5</td>\n",
              "      <td>어제 또또 그인간이 내 프로필 본 티 팍팍 내길래 너...</td>\n",
              "      <td>걍 친삭하셉 영구저 으로 못보게 프로필 차단 안해써  했는데 그야말로   발광을 하...</td>\n",
              "    </tr>\n",
              "    <tr>\n",
              "      <th>5</th>\n",
              "      <td>6</td>\n",
              "      <td>아 ㅈ댓다          만나서 하하호호 밥먹을땐 ...</td>\n",
              "      <td>한벚 더 만나자고 기긱기기 상대쪽이 카톡 먼저 끝내버려서 바로 또 연락하기도 애매해...</td>\n",
              "    </tr>\n",
              "    <tr>\n",
              "      <th>6</th>\n",
              "      <td>7</td>\n",
              "      <td>우리의 사랑은 특별한 줄 알았지</td>\n",
              "      <td>안특별하면 뭐어때  뭐때메 안특별한데</td>\n",
              "    </tr>\n",
              "    <tr>\n",
              "      <th>7</th>\n",
              "      <td>8</td>\n",
              "      <td>이 글을 네가 보게 될지 모르겠지만 그냥 술먹고 너 ...</td>\n",
              "      <td>미친 눈물나 와 이런 사랑 아프겠지만 해보고 싶다 와따시모  ㅠ진짜 저런 사랑하면 ...</td>\n",
              "    </tr>\n",
              "    <tr>\n",
              "      <th>8</th>\n",
              "      <td>9</td>\n",
              "      <td>난 느낌이 좋으면 아무것도 몰라도 마냥 좋은데    ...</td>\n",
              "      <td>너가 다가가야지  그럼 조금만 기다려쥬 ㅇㅈ 너가 좋아하면 너가 다가가야지 상대방은...</td>\n",
              "    </tr>\n",
              "    <tr>\n",
              "      <th>...</th>\n",
              "      <td>...</td>\n",
              "      <td>...</td>\n",
              "      <td>...</td>\n",
              "    </tr>\n",
              "    <tr>\n",
              "      <th>3832</th>\n",
              "      <td>3833</td>\n",
              "      <td>심상치 않은 징조      심장은 보다 신속     ...</td>\n",
              "      <td>거절하겠다 그래서 출석은 언젠대 와 부럽다 아재</td>\n",
              "    </tr>\n",
              "    <tr>\n",
              "      <th>3833</th>\n",
              "      <td>3834</td>\n",
              "      <td>하루에도 몇번씩 데이터 끄고 톡 너가 읽었는지 안읽었...</td>\n",
              "      <td>내가 좋아하는사람은 계속 안읽으셔 ㅠ 데이터 키고 확인하면 안뎌  그럴일 없는거 알...</td>\n",
              "    </tr>\n",
              "    <tr>\n",
              "      <th>3834</th>\n",
              "      <td>3835</td>\n",
              "      <td>다시 만날 일 없는 너랑 행복회로 돌리는 날 발견해버...</td>\n",
              "      <td>왜 만난일 없냐 접점이 전혀 없거든 그래도 맘속에 썩히긴 아깝잖아 ㅠㅠ 하지만 전혀...</td>\n",
              "    </tr>\n",
              "    <tr>\n",
              "      <th>3835</th>\n",
              "      <td>3836</td>\n",
              "      <td>번호 따인건 난데     내가 더 빠져버렸네</td>\n",
              "      <td>그래도 좋겠다 연락만 잘하면 되니까</td>\n",
              "    </tr>\n",
              "    <tr>\n",
              "      <th>3836</th>\n",
              "      <td>3837</td>\n",
              "      <td>어휴  개월마다 한명씩 바뀌네 병신같은 금사빠</td>\n",
              "      <td>가장 최근사람에서 두번째에 고백 ㄱ 차라리 그게 훨씬낫지    짝사랑 길어지면 답도...</td>\n",
              "    </tr>\n",
              "  </tbody>\n",
              "</table>\n",
              "<p>2767 rows × 3 columns</p>\n",
              "</div>"
            ],
            "text/plain": [
              "        id  ...                                             output\n",
              "4        5  ...  걍 친삭하셉 영구저 으로 못보게 프로필 차단 안해써  했는데 그야말로   발광을 하...\n",
              "5        6  ...  한벚 더 만나자고 기긱기기 상대쪽이 카톡 먼저 끝내버려서 바로 또 연락하기도 애매해...\n",
              "6        7  ...                             안특별하면 뭐어때  뭐때메 안특별한데  \n",
              "7        8  ...  미친 눈물나 와 이런 사랑 아프겠지만 해보고 싶다 와따시모  ㅠ진짜 저런 사랑하면 ...\n",
              "8        9  ...  너가 다가가야지  그럼 조금만 기다려쥬 ㅇㅈ 너가 좋아하면 너가 다가가야지 상대방은...\n",
              "...    ...  ...                                                ...\n",
              "3832  3833  ...                         거절하겠다 그래서 출석은 언젠대 와 부럽다 아재\n",
              "3833  3834  ...  내가 좋아하는사람은 계속 안읽으셔 ㅠ 데이터 키고 확인하면 안뎌  그럴일 없는거 알...\n",
              "3834  3835  ...  왜 만난일 없냐 접점이 전혀 없거든 그래도 맘속에 썩히긴 아깝잖아 ㅠㅠ 하지만 전혀...\n",
              "3835  3836  ...                                그래도 좋겠다 연락만 잘하면 되니까\n",
              "3836  3837  ...  가장 최근사람에서 두번째에 고백 ㄱ 차라리 그게 훨씬낫지    짝사랑 길어지면 답도...\n",
              "\n",
              "[2767 rows x 3 columns]"
            ]
          },
          "metadata": {},
          "execution_count": 38
        }
      ]
    },
    {
      "cell_type": "markdown",
      "metadata": {
        "id": "ettW717x-fFo"
      },
      "source": [
        "### 앞 뒤 공백 제거"
      ]
    },
    {
      "cell_type": "code",
      "metadata": {
        "id": "KjhRuMgC-hK4"
      },
      "source": [
        "data['input'], data['output'] = data['input'].str.strip() , data['output'].str.strip()"
      ],
      "execution_count": null,
      "outputs": []
    },
    {
      "cell_type": "markdown",
      "metadata": {
        "id": "hAwxM3WH2v0n"
      },
      "source": [
        "## 서브워드텍스트인코더를 사용해 단어 집합 생성\n",
        "\n",
        "- https://wikidocs.net/86792\n",
        "- 단어를 서브 워드로 분리해줌"
      ]
    },
    {
      "cell_type": "code",
      "metadata": {
        "colab": {
          "base_uri": "https://localhost:8080/"
        },
        "id": "-iL1yOQm2_sk",
        "outputId": "c0dcaf5e-3853-43a9-d122-07b89caae01e"
      },
      "source": [
        "# 서브워드텍스트인코더를 사용하여 단어 집합(Vocabulary) 생성\n",
        "tokenizer = tfds.deprecated.text.SubwordTextEncoder.build_from_corpus(data['input']+data['output'], target_vocab_size=2**13)\n",
        "\n",
        "# 시작 토큰과 종료 토큰에 대한 정수 부여.\n",
        "START_TOKEN, END_TOKEN = [tokenizer.vocab_size], [tokenizer.vocab_size + 1]\n",
        "VOCAB_SIZE = tokenizer.vocab_size + 2\n",
        "\n",
        "print('단어 집합의 크기 :',VOCAB_SIZE)"
      ],
      "execution_count": null,
      "outputs": [
        {
          "output_type": "stream",
          "text": [
            "단어 집합의 크기 : 7573\n"
          ],
          "name": "stdout"
        }
      ]
    },
    {
      "cell_type": "code",
      "metadata": {
        "colab": {
          "base_uri": "https://localhost:8080/"
        },
        "id": "8k4IOg6S7v7K",
        "outputId": "c12fba29-6359-4cd9-a420-f5aaa4c72cef"
      },
      "source": [
        "sample_string = data['input'][20]\n",
        "\n",
        "# encode() : 텍스트 시퀀스 --> 정수 시퀀스\n",
        "tokenized_string = tokenizer.encode(sample_string)\n",
        "print ('인코딩 후의 문장 {}'.format(tokenized_string))\n",
        "\n",
        "# decode() : 정수 시퀀스 --> 텍스트 시퀀스\n",
        "original_string = tokenizer.decode(tokenized_string)\n",
        "print ('디코딩 후의 문장: {}'.format(original_string))\n",
        "\n",
        "for ts in tokenized_string:\n",
        "  print ('{} ----> {}'.format(ts, tokenizer.decode([ts])))"
      ],
      "execution_count": null,
      "outputs": [
        {
          "output_type": "stream",
          "text": [
            "인코딩 후의 문장 [412, 568, 162, 3296, 4956, 7347, 216, 1245]\n",
            "디코딩 후의 문장: 여기 다들 짝사랑 상대 좋아한지 얼마나 됨\n",
            "412 ----> 여기 \n",
            "568 ----> 다들 \n",
            "162 ----> 짝사랑 \n",
            "3296 ----> 상대 \n",
            "4956 ----> 좋아한지\n",
            "7347 ---->  \n",
            "216 ----> 얼마나 \n",
            "1245 ----> 됨\n"
          ],
          "name": "stdout"
        }
      ]
    },
    {
      "cell_type": "markdown",
      "metadata": {
        "id": "k9AbAvLlA32E"
      },
      "source": [
        "### 정수 인코딩 및 패딩"
      ]
    },
    {
      "cell_type": "code",
      "metadata": {
        "colab": {
          "base_uri": "https://localhost:8080/",
          "height": 314
        },
        "id": "69rtVlsDA52v",
        "outputId": "5e724c1b-6682-4256-abb4-ed92cf84758f"
      },
      "source": [
        "print('게시글의 최대 길이 :',max(len(l) for l in data['input']))\n",
        "print('게시글의 평균 길이 :',sum(map(len, data['input']))/len(data['input']))\n",
        "\n",
        "plt.hist([len(s) for s in data['input']], range=(0,400), bins=100)\n",
        "plt.xlabel('length of samples')\n",
        "plt.ylabel('number of samples')\n",
        "plt.show()"
      ],
      "execution_count": null,
      "outputs": [
        {
          "output_type": "stream",
          "text": [
            "게시글의 최대 길이 : 7758\n",
            "게시글의 평균 길이 : 70.58330321647995\n"
          ],
          "name": "stdout"
        },
        {
          "output_type": "display_data",
          "data": {
            "image/png": "[encoded data removed]",
            "text/plain": [
              "<Figure size 432x288 with 1 Axes>"
            ]
          },
          "metadata": {
            "needs_background": "light"
          }
        }
      ]
    },
    {
      "cell_type": "code",
      "metadata": {
        "colab": {
          "base_uri": "https://localhost:8080/",
          "height": 314
        },
        "id": "SSIUDgbbAvCL",
        "outputId": "bde862e9-0430-496a-f793-2d355ca7c243"
      },
      "source": [
        "print('게시글의 최대 길이 :',max(len(l) for l in data['output']))\n",
        "print('게시글의 평균 길이 :',sum(map(len, data['output']))/len(data['output']))\n",
        "\n",
        "plt.hist([len(s) for s in data['output']],range=(0,400), bins=100)\n",
        "plt.xlabel('length of samples')\n",
        "plt.ylabel('number of samples')\n",
        "plt.show()"
      ],
      "execution_count": null,
      "outputs": [
        {
          "output_type": "stream",
          "text": [
            "게시글의 최대 길이 : 2856\n",
            "게시글의 평균 길이 : 68.84098301409469\n"
          ],
          "name": "stdout"
        },
        {
          "output_type": "display_data",
          "data": {
            "image/png": "[encoded data removed]",
            "text/plain": [
              "<Figure size 432x288 with 1 Axes>"
            ]
          },
          "metadata": {
            "needs_background": "light"
          }
        }
      ]
    },
    {
      "cell_type": "markdown",
      "metadata": {
        "id": "X0G0KXjYDWkH"
      },
      "source": [
        "글들이 왜이렇게 길까요? 일단 100으로 패딩하겠습니다"
      ]
    },
    {
      "cell_type": "code",
      "metadata": {
        "id": "WASwiKj4DUlm"
      },
      "source": [
        "MAX_LENGTH = 100\n",
        "\n",
        "def tokenize_and_filter(inputs, outputs):\n",
        "  tokenized_inputs, tokenized_outputs = [], []\n",
        "\n",
        "  ## 정수 인코딩\n",
        "  for (sentence1, sentence2) in zip(inputs, outputs):\n",
        "    # encode(토큰화 + 정수 인코딩), 시작 토큰과 종료 토큰 추가\n",
        "    sentence1 = START_TOKEN + tokenizer.encode(sentence1) + END_TOKEN\n",
        "    sentence2 = START_TOKEN + tokenizer.encode(sentence2) + END_TOKEN\n",
        "\n",
        "    tokenized_inputs.append(sentence1)\n",
        "    tokenized_outputs.append(sentence2)\n",
        "\n",
        "  # 패딩\n",
        "  tokenized_inputs = tf.keras.preprocessing.sequence.pad_sequences(\n",
        "      tokenized_inputs, maxlen=MAX_LENGTH, padding='post')\n",
        "  tokenized_outputs = tf.keras.preprocessing.sequence.pad_sequences(\n",
        "      tokenized_outputs, maxlen=MAX_LENGTH, padding='post')\n",
        "\n",
        "  return tokenized_inputs, tokenized_outputs"
      ],
      "execution_count": null,
      "outputs": []
    },
    {
      "cell_type": "code",
      "metadata": {
        "colab": {
          "base_uri": "https://localhost:8080/"
        },
        "id": "DN4VYewqDj7D",
        "outputId": "fc01c8a8-e743-4b79-8a53-488ce8d142cc"
      },
      "source": [
        "inputs, outputs = tokenize_and_filter(data['input'], data['output'])\n",
        "print('input shape >> ',inputs.shape)\n",
        "print('output shape >> ',outputs.shape)"
      ],
      "execution_count": null,
      "outputs": [
        {
          "output_type": "stream",
          "text": [
            "input shape >>  (2767, 100)\n",
            "output shape >>  (2767, 100)\n"
          ],
          "name": "stdout"
        }
      ]
    }
  ]
}