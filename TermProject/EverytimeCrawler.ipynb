{
  "nbformat": 4,
  "nbformat_minor": 0,
  "metadata": {
    "colab": {
      "name": "EverytimeCrawler.ipynb",
      "provenance": [],
      "collapsed_sections": [],
      "mount_file_id": "1_fXRyT2RsxBdqADXCAAuM3GHq4ACpf8b",
      "authorship_tag": "ABX9TyM4FdTAss4YXA6os1T2jAO2",
      "include_colab_link": true
    },
    "kernelspec": {
      "name": "python3",
      "display_name": "Python 3"
    },
    "language_info": {
      "name": "python"
    }
  },
  "cells": [
    {
      "cell_type": "markdown",
      "metadata": {
        "id": "view-in-github",
        "colab_type": "text"
      },
      "source": [
        "<a href=\"https://colab.research.google.com/github/junieberry/DL-fromScratch2/blob/main/TermProject/EverytimeCrawler.ipynb\" target=\"_parent\"><img src=\"https://colab.research.google.com/assets/colab-badge.svg\" alt=\"Open In Colab\"/></a>"
      ]
    },
    {
      "cell_type": "markdown",
      "metadata": {
        "id": "Gmr-_66AoS4X"
      },
      "source": [
        "# 대학생처럼 말해보기"
      ]
    },
    {
      "cell_type": "markdown",
      "metadata": {
        "id": "9BxNanhhq5rB"
      },
      "source": [
        "## 에브리타임 크롤링"
      ]
    },
    {
      "cell_type": "code",
      "metadata": {
        "id": "jhgcNzkxMLSW"
      },
      "source": [
        "base_url = \"https://everytime.kr\""
      ],
      "execution_count": null,
      "outputs": []
    },
    {
      "cell_type": "code",
      "metadata": {
        "id": "wz4ZWj27tLcU",
        "colab": {
          "base_uri": "https://localhost:8080/"
        },
        "outputId": "047e18b1-ba50-4a09-b772-5961ab11d6be"
      },
      "source": [
        "'''\n",
        "크롬 드라이버를 로컬에서 가져올 수 있다\n",
        "경로를 입력할때 \\를 사용하면 유니코드 에러가 난다... 역슬레시를 써주거나 \\\\를 써주자... 그래도 안된다\n",
        "chromdriver=webdriver.Chrome(r'C:Users/82108/Downloads/chromedriver_win32/chromedriver')\n",
        "WebDriverException: Message: 'chromedriver.exe' executable may have wrong permissions.\n",
        "'''\n",
        "!pip install selenium\n",
        "!apt-get update\n",
        "!apt install chromium-chromedriver"
      ],
      "execution_count": null,
      "outputs": [
        {
          "output_type": "stream",
          "text": [
            "Collecting selenium\n",
            "  Downloading selenium-3.141.0-py2.py3-none-any.whl (904 kB)\n",
            "\u001b[?25l\r\u001b[K     |▍                               | 10 kB 25.7 MB/s eta 0:00:01\r\u001b[K     |▊                               | 20 kB 29.9 MB/s eta 0:00:01\r\u001b[K     |█                               | 30 kB 12.1 MB/s eta 0:00:01\r\u001b[K     |█▌                              | 40 kB 9.1 MB/s eta 0:00:01\r\u001b[K     |█▉                              | 51 kB 5.2 MB/s eta 0:00:01\r\u001b[K     |██▏                             | 61 kB 5.7 MB/s eta 0:00:01\r\u001b[K     |██▌                             | 71 kB 6.1 MB/s eta 0:00:01\r\u001b[K     |███                             | 81 kB 6.2 MB/s eta 0:00:01\r\u001b[K     |███▎                            | 92 kB 4.6 MB/s eta 0:00:01\r\u001b[K     |███▋                            | 102 kB 5.1 MB/s eta 0:00:01\r\u001b[K     |████                            | 112 kB 5.1 MB/s eta 0:00:01\r\u001b[K     |████▍                           | 122 kB 5.1 MB/s eta 0:00:01\r\u001b[K     |████▊                           | 133 kB 5.1 MB/s eta 0:00:01\r\u001b[K     |█████                           | 143 kB 5.1 MB/s eta 0:00:01\r\u001b[K     |█████▍                          | 153 kB 5.1 MB/s eta 0:00:01\r\u001b[K     |█████▉                          | 163 kB 5.1 MB/s eta 0:00:01\r\u001b[K     |██████▏                         | 174 kB 5.1 MB/s eta 0:00:01\r\u001b[K     |██████▌                         | 184 kB 5.1 MB/s eta 0:00:01\r\u001b[K     |██████▉                         | 194 kB 5.1 MB/s eta 0:00:01\r\u001b[K     |███████▎                        | 204 kB 5.1 MB/s eta 0:00:01\r\u001b[K     |███████▋                        | 215 kB 5.1 MB/s eta 0:00:01\r\u001b[K     |████████                        | 225 kB 5.1 MB/s eta 0:00:01\r\u001b[K     |████████▎                       | 235 kB 5.1 MB/s eta 0:00:01\r\u001b[K     |████████▊                       | 245 kB 5.1 MB/s eta 0:00:01\r\u001b[K     |█████████                       | 256 kB 5.1 MB/s eta 0:00:01\r\u001b[K     |█████████▍                      | 266 kB 5.1 MB/s eta 0:00:01\r\u001b[K     |█████████▉                      | 276 kB 5.1 MB/s eta 0:00:01\r\u001b[K     |██████████▏                     | 286 kB 5.1 MB/s eta 0:00:01\r\u001b[K     |██████████▌                     | 296 kB 5.1 MB/s eta 0:00:01\r\u001b[K     |██████████▉                     | 307 kB 5.1 MB/s eta 0:00:01\r\u001b[K     |███████████▎                    | 317 kB 5.1 MB/s eta 0:00:01\r\u001b[K     |███████████▋                    | 327 kB 5.1 MB/s eta 0:00:01\r\u001b[K     |████████████                    | 337 kB 5.1 MB/s eta 0:00:01\r\u001b[K     |████████████▎                   | 348 kB 5.1 MB/s eta 0:00:01\r\u001b[K     |████████████▊                   | 358 kB 5.1 MB/s eta 0:00:01\r\u001b[K     |█████████████                   | 368 kB 5.1 MB/s eta 0:00:01\r\u001b[K     |█████████████▍                  | 378 kB 5.1 MB/s eta 0:00:01\r\u001b[K     |█████████████▊                  | 389 kB 5.1 MB/s eta 0:00:01\r\u001b[K     |██████████████▏                 | 399 kB 5.1 MB/s eta 0:00:01\r\u001b[K     |██████████████▌                 | 409 kB 5.1 MB/s eta 0:00:01\r\u001b[K     |██████████████▉                 | 419 kB 5.1 MB/s eta 0:00:01\r\u001b[K     |███████████████▏                | 430 kB 5.1 MB/s eta 0:00:01\r\u001b[K     |███████████████▋                | 440 kB 5.1 MB/s eta 0:00:01\r\u001b[K     |████████████████                | 450 kB 5.1 MB/s eta 0:00:01\r\u001b[K     |████████████████▎               | 460 kB 5.1 MB/s eta 0:00:01\r\u001b[K     |████████████████▋               | 471 kB 5.1 MB/s eta 0:00:01\r\u001b[K     |█████████████████               | 481 kB 5.1 MB/s eta 0:00:01\r\u001b[K     |█████████████████▍              | 491 kB 5.1 MB/s eta 0:00:01\r\u001b[K     |█████████████████▊              | 501 kB 5.1 MB/s eta 0:00:01\r\u001b[K     |██████████████████▏             | 512 kB 5.1 MB/s eta 0:00:01\r\u001b[K     |██████████████████▌             | 522 kB 5.1 MB/s eta 0:00:01\r\u001b[K     |██████████████████▉             | 532 kB 5.1 MB/s eta 0:00:01\r\u001b[K     |███████████████████▏            | 542 kB 5.1 MB/s eta 0:00:01\r\u001b[K     |███████████████████▋            | 552 kB 5.1 MB/s eta 0:00:01\r\u001b[K     |████████████████████            | 563 kB 5.1 MB/s eta 0:00:01\r\u001b[K     |████████████████████▎           | 573 kB 5.1 MB/s eta 0:00:01\r\u001b[K     |████████████████████▋           | 583 kB 5.1 MB/s eta 0:00:01\r\u001b[K     |█████████████████████           | 593 kB 5.1 MB/s eta 0:00:01\r\u001b[K     |█████████████████████▍          | 604 kB 5.1 MB/s eta 0:00:01\r\u001b[K     |█████████████████████▊          | 614 kB 5.1 MB/s eta 0:00:01\r\u001b[K     |██████████████████████          | 624 kB 5.1 MB/s eta 0:00:01\r\u001b[K     |██████████████████████▌         | 634 kB 5.1 MB/s eta 0:00:01\r\u001b[K     |██████████████████████▉         | 645 kB 5.1 MB/s eta 0:00:01\r\u001b[K     |███████████████████████▏        | 655 kB 5.1 MB/s eta 0:00:01\r\u001b[K     |███████████████████████▌        | 665 kB 5.1 MB/s eta 0:00:01\r\u001b[K     |████████████████████████        | 675 kB 5.1 MB/s eta 0:00:01\r\u001b[K     |████████████████████████▎       | 686 kB 5.1 MB/s eta 0:00:01\r\u001b[K     |████████████████████████▋       | 696 kB 5.1 MB/s eta 0:00:01\r\u001b[K     |█████████████████████████       | 706 kB 5.1 MB/s eta 0:00:01\r\u001b[K     |█████████████████████████▍      | 716 kB 5.1 MB/s eta 0:00:01\r\u001b[K     |█████████████████████████▊      | 727 kB 5.1 MB/s eta 0:00:01\r\u001b[K     |██████████████████████████      | 737 kB 5.1 MB/s eta 0:00:01\r\u001b[K     |██████████████████████████▍     | 747 kB 5.1 MB/s eta 0:00:01\r\u001b[K     |██████████████████████████▉     | 757 kB 5.1 MB/s eta 0:00:01\r\u001b[K     |███████████████████████████▏    | 768 kB 5.1 MB/s eta 0:00:01\r\u001b[K     |███████████████████████████▌    | 778 kB 5.1 MB/s eta 0:00:01\r\u001b[K     |████████████████████████████    | 788 kB 5.1 MB/s eta 0:00:01\r\u001b[K     |████████████████████████████▎   | 798 kB 5.1 MB/s eta 0:00:01\r\u001b[K     |████████████████████████████▋   | 808 kB 5.1 MB/s eta 0:00:01\r\u001b[K     |█████████████████████████████   | 819 kB 5.1 MB/s eta 0:00:01\r\u001b[K     |█████████████████████████████▍  | 829 kB 5.1 MB/s eta 0:00:01\r\u001b[K     |█████████████████████████████▊  | 839 kB 5.1 MB/s eta 0:00:01\r\u001b[K     |██████████████████████████████  | 849 kB 5.1 MB/s eta 0:00:01\r\u001b[K     |██████████████████████████████▍ | 860 kB 5.1 MB/s eta 0:00:01\r\u001b[K     |██████████████████████████████▉ | 870 kB 5.1 MB/s eta 0:00:01\r\u001b[K     |███████████████████████████████▏| 880 kB 5.1 MB/s eta 0:00:01\r\u001b[K     |███████████████████████████████▌| 890 kB 5.1 MB/s eta 0:00:01\r\u001b[K     |███████████████████████████████▉| 901 kB 5.1 MB/s eta 0:00:01\r\u001b[K     |████████████████████████████████| 904 kB 5.1 MB/s \n",
            "\u001b[?25hRequirement already satisfied: urllib3 in /usr/local/lib/python3.7/dist-packages (from selenium) (1.24.3)\n",
            "Installing collected packages: selenium\n",
            "Successfully installed selenium-3.141.0\n",
            "Get:1 http://security.ubuntu.com/ubuntu bionic-security InRelease [88.7 kB]\n",
            "Get:2 https://cloud.r-project.org/bin/linux/ubuntu bionic-cran40/ InRelease [3,626 B]\n",
            "Ign:3 https://developer.download.nvidia.com/compute/cuda/repos/ubuntu1804/x86_64  InRelease\n",
            "Ign:4 https://developer.download.nvidia.com/compute/machine-learning/repos/ubuntu1804/x86_64  InRelease\n",
            "Hit:5 https://developer.download.nvidia.com/compute/cuda/repos/ubuntu1804/x86_64  Release\n",
            "Get:6 http://ppa.launchpad.net/c2d4u.team/c2d4u4.0+/ubuntu bionic InRelease [15.9 kB]\n",
            "Hit:7 https://developer.download.nvidia.com/compute/machine-learning/repos/ubuntu1804/x86_64  Release\n",
            "Hit:8 http://archive.ubuntu.com/ubuntu bionic InRelease\n",
            "Get:9 http://archive.ubuntu.com/ubuntu bionic-updates InRelease [88.7 kB]\n",
            "Hit:10 http://ppa.launchpad.net/cran/libgit2/ubuntu bionic InRelease\n",
            "Get:11 http://security.ubuntu.com/ubuntu bionic-security/main amd64 Packages [2,294 kB]\n",
            "Get:12 http://archive.ubuntu.com/ubuntu bionic-backports InRelease [74.6 kB]\n",
            "Hit:13 http://ppa.launchpad.net/deadsnakes/ppa/ubuntu bionic InRelease\n",
            "Get:14 http://security.ubuntu.com/ubuntu bionic-security/restricted amd64 Packages [543 kB]\n",
            "Get:15 http://security.ubuntu.com/ubuntu bionic-security/universe amd64 Packages [1,424 kB]\n",
            "Hit:16 http://ppa.launchpad.net/graphics-drivers/ppa/ubuntu bionic InRelease\n",
            "Get:19 http://ppa.launchpad.net/c2d4u.team/c2d4u4.0+/ubuntu bionic/main Sources [1,794 kB]\n",
            "Get:20 http://archive.ubuntu.com/ubuntu bionic-updates/main amd64 Packages [2,730 kB]\n",
            "Get:21 http://ppa.launchpad.net/c2d4u.team/c2d4u4.0+/ubuntu bionic/main amd64 Packages [918 kB]\n",
            "Get:22 http://archive.ubuntu.com/ubuntu bionic-updates/universe amd64 Packages [2,199 kB]\n",
            "Get:23 http://archive.ubuntu.com/ubuntu bionic-updates/restricted amd64 Packages [575 kB]\n",
            "Get:24 http://archive.ubuntu.com/ubuntu bionic-updates/multiverse amd64 Packages [34.4 kB]\n",
            "Fetched 12.8 MB in 3s (3,810 kB/s)\n",
            "Reading package lists... Done\n",
            "Reading package lists... Done\n",
            "Building dependency tree       \n",
            "Reading state information... Done\n",
            "The following package was automatically installed and is no longer required:\n",
            "  libnvidia-common-460\n",
            "Use 'apt autoremove' to remove it.\n",
            "The following additional packages will be installed:\n",
            "  chromium-browser chromium-browser-l10n chromium-codecs-ffmpeg-extra\n",
            "Suggested packages:\n",
            "  webaccounts-chromium-extension unity-chromium-extension\n",
            "The following NEW packages will be installed:\n",
            "  chromium-browser chromium-browser-l10n chromium-chromedriver\n",
            "  chromium-codecs-ffmpeg-extra\n",
            "0 upgraded, 4 newly installed, 0 to remove and 55 not upgraded.\n",
            "Need to get 91.8 MB of archives.\n",
            "After this operation, 315 MB of additional disk space will be used.\n",
            "Get:1 http://archive.ubuntu.com/ubuntu bionic-updates/universe amd64 chromium-codecs-ffmpeg-extra amd64 92.0.4515.159-0ubuntu0.18.04.1 [1,124 kB]\n",
            "Get:2 http://archive.ubuntu.com/ubuntu bionic-updates/universe amd64 chromium-browser amd64 92.0.4515.159-0ubuntu0.18.04.1 [81.7 MB]\n",
            "Get:3 http://archive.ubuntu.com/ubuntu bionic-updates/universe amd64 chromium-browser-l10n all 92.0.4515.159-0ubuntu0.18.04.1 [4,026 kB]\n",
            "Get:4 http://archive.ubuntu.com/ubuntu bionic-updates/universe amd64 chromium-chromedriver amd64 92.0.4515.159-0ubuntu0.18.04.1 [4,902 kB]\n",
            "Fetched 91.8 MB in 5s (18.5 MB/s)\n",
            "Selecting previously unselected package chromium-codecs-ffmpeg-extra.\n",
            "(Reading database ... 148486 files and directories currently installed.)\n",
            "Preparing to unpack .../chromium-codecs-ffmpeg-extra_92.0.4515.159-0ubuntu0.18.04.1_amd64.deb ...\n",
            "Unpacking chromium-codecs-ffmpeg-extra (92.0.4515.159-0ubuntu0.18.04.1) ...\n",
            "Selecting previously unselected package chromium-browser.\n",
            "Preparing to unpack .../chromium-browser_92.0.4515.159-0ubuntu0.18.04.1_amd64.deb ...\n",
            "Unpacking chromium-browser (92.0.4515.159-0ubuntu0.18.04.1) ...\n",
            "Selecting previously unselected package chromium-browser-l10n.\n",
            "Preparing to unpack .../chromium-browser-l10n_92.0.4515.159-0ubuntu0.18.04.1_all.deb ...\n",
            "Unpacking chromium-browser-l10n (92.0.4515.159-0ubuntu0.18.04.1) ...\n",
            "Selecting previously unselected package chromium-chromedriver.\n",
            "Preparing to unpack .../chromium-chromedriver_92.0.4515.159-0ubuntu0.18.04.1_amd64.deb ...\n",
            "Unpacking chromium-chromedriver (92.0.4515.159-0ubuntu0.18.04.1) ...\n",
            "Setting up chromium-codecs-ffmpeg-extra (92.0.4515.159-0ubuntu0.18.04.1) ...\n",
            "Setting up chromium-browser (92.0.4515.159-0ubuntu0.18.04.1) ...\n",
            "update-alternatives: using /usr/bin/chromium-browser to provide /usr/bin/x-www-browser (x-www-browser) in auto mode\n",
            "update-alternatives: using /usr/bin/chromium-browser to provide /usr/bin/gnome-www-browser (gnome-www-browser) in auto mode\n",
            "Setting up chromium-chromedriver (92.0.4515.159-0ubuntu0.18.04.1) ...\n",
            "Setting up chromium-browser-l10n (92.0.4515.159-0ubuntu0.18.04.1) ...\n",
            "Processing triggers for man-db (2.8.3-2ubuntu0.1) ...\n",
            "Processing triggers for hicolor-icon-theme (0.17-2) ...\n",
            "Processing triggers for mime-support (3.60ubuntu1) ...\n",
            "Processing triggers for libc-bin (2.27-3ubuntu1.2) ...\n",
            "/sbin/ldconfig.real: /usr/local/lib/python3.7/dist-packages/ideep4py/lib/libmkldnn.so.0 is not a symbolic link\n",
            "\n"
          ],
          "name": "stdout"
        }
      ]
    },
    {
      "cell_type": "code",
      "metadata": {
        "colab": {
          "base_uri": "https://localhost:8080/"
        },
        "id": "-rCFlyp3KIQ9",
        "outputId": "753d1e2e-4f02-4864-df96-63f4226f78ce"
      },
      "source": [
        "!pip install requests"
      ],
      "execution_count": null,
      "outputs": [
        {
          "output_type": "stream",
          "text": [
            "Requirement already satisfied: requests in /usr/local/lib/python3.7/dist-packages (2.23.0)\n",
            "Requirement already satisfied: chardet<4,>=3.0.2 in /usr/local/lib/python3.7/dist-packages (from requests) (3.0.4)\n",
            "Requirement already satisfied: certifi>=2017.4.17 in /usr/local/lib/python3.7/dist-packages (from requests) (2021.5.30)\n",
            "Requirement already satisfied: urllib3!=1.25.0,!=1.25.1,<1.26,>=1.21.1 in /usr/local/lib/python3.7/dist-packages (from requests) (1.24.3)\n",
            "Requirement already satisfied: idna<3,>=2.5 in /usr/local/lib/python3.7/dist-packages (from requests) (2.10)\n"
          ],
          "name": "stdout"
        }
      ]
    },
    {
      "cell_type": "code",
      "metadata": {
        "id": "XLLYSqY-PptA"
      },
      "source": [
        "import numpy as np\n",
        "import time\n",
        "from selenium import webdriver\n",
        "from bs4 import BeautifulSoup"
      ],
      "execution_count": null,
      "outputs": []
    },
    {
      "cell_type": "markdown",
      "metadata": {
        "id": "wWimckH-K_7D"
      },
      "source": [
        "## 로그인"
      ]
    },
    {
      "cell_type": "code",
      "metadata": {
        "id": "zdmL3H86l5Eh"
      },
      "source": [
        "\n",
        "options = webdriver.ChromeOptions()\n",
        "options.add_argument('--headless')\n",
        "options.add_argument('--no-sandbox')\n",
        "options.add_argument('--disable-dev-shm-usage')\n",
        "## 시크릿탭\n",
        "\n",
        "## headless 은닉을 위해 >> http://www.useragentstring.com/index.php\n",
        "options.add_argument(\"user-agent={Mozilla/5.0 (Windows NT 10.0; Win64; x64) AppleWebKit/537.36 (KHTML, like Gecko) Chrome/92.0.4515.159 Safari/537.36}\")\n",
        "\n",
        "chrome=webdriver.Chrome('chromedriver', options=options)\n",
        "chrome.implicitly_wait(1)\n",
        "\n",
        "## Login\n",
        "chrome.get(base_url + \"/login\")\n",
        "chrome.find_element_by_name('userid').send_keys('junyoung44')\n",
        "chrome.find_element_by_name('password').send_keys('junyoung0818!')\n",
        "\n",
        "time.sleep(np.random.uniform(2,4))\n",
        "chrome.find_element_by_xpath('//*[@class=\"submit\"]/input').click()"
      ],
      "execution_count": null,
      "outputs": []
    },
    {
      "cell_type": "markdown",
      "metadata": {
        "id": "om4IV7JeA9Ho"
      },
      "source": [
        "## 크롤링\n",
        "\n",
        "- 인사캠 자유게시판\n",
        "- 자과캠 자유게시판\n",
        "- 정보게시판\n",
        "- 새내기게시판"
      ]
    },
    {
      "cell_type": "code",
      "metadata": {
        "id": "xS1iPfms8GwZ"
      },
      "source": [
        "board = { \n",
        "    \"인사캠 자유게시판\": \"370444\",\n",
        "    \"자과캠 자유게시판\": \"370445\",\n",
        "    \"정보게시판\": \"375130\",\n",
        "    \"새내기게시판\": \"375132\"}\n",
        "\n",
        "page_num = 200"
      ],
      "execution_count": null,
      "outputs": []
    },
    {
      "cell_type": "code",
      "metadata": {
        "colab": {
          "base_uri": "https://localhost:8080/"
        },
        "id": "i4R95FXRLGDl",
        "outputId": "a693e9d8-707f-47f8-bf14-7dd11eb2247b"
      },
      "source": [
        "dataset = []\n",
        "soup = BeautifulSoup()\n",
        "\n",
        "\n",
        "\n",
        "time.sleep(np.random.uniform(2,4))\n",
        "chrome.get(base_url+\"/370444/p/1\")\n",
        "links = [post.get_attribute('href') for post in chrome.find_elements_by_css_selector('article > a.article')]\n",
        "print(links)\n",
        "\n",
        "# for link in links:\n",
        "#   time.sleep(np.random.uniform(2,4))\n",
        "#   chrome.get(link)\n",
        "#   html = chrome.page_source\n",
        "#   soup = BeautifulSoup(html,'html.parser')\n",
        "#   title = soup.select_one('#container > div.wrap.articles > article > a > h2')\n",
        "#   content = soup.select_one('#container > div.wrap.articles > article > a > p')\n",
        "\n",
        "# soup.select_one('#container > div.wrap.articles > article:nth-child(2) > a')\n",
        "\n",
        "# comments = [comments..get_text() for comment in soup.select_one('#container > div.wrap.articles > article > div > article:nth-child(1)')]\n",
        "\n",
        "\n",
        "# for value in board.values():\n",
        "#   url = base_url+\"/\"+value\n",
        "\n",
        "#   for i in range(1,page_num):\n",
        "\n"
      ],
      "execution_count": null,
      "outputs": [
        {
          "output_type": "stream",
          "text": [
            "['https://everytime.kr/370444/v/205613902', 'https://everytime.kr/370444/v/205613819', 'https://everytime.kr/370444/v/205613520', 'https://everytime.kr/370444/v/205613504', 'https://everytime.kr/370444/v/205613340', 'https://everytime.kr/370444/v/205613137', 'https://everytime.kr/370444/v/205612886', 'https://everytime.kr/370444/v/205612481', 'https://everytime.kr/370444/v/205612441', 'https://everytime.kr/370444/v/205612440', 'https://everytime.kr/370444/v/205612359', 'https://everytime.kr/370444/v/205611869', 'https://everytime.kr/370444/v/205611568', 'https://everytime.kr/370444/v/205611546', 'https://everytime.kr/370444/v/205611329', 'https://everytime.kr/370444/v/205611315', 'https://everytime.kr/370444/v/205611231', 'https://everytime.kr/370444/v/205611049', 'https://everytime.kr/370444/v/205610975', 'https://everytime.kr/370444/v/205610950']\n"
          ],
          "name": "stdout"
        }
      ]
    },
    {
      "cell_type": "code",
      "metadata": {
        "colab": {
          "base_uri": "https://localhost:8080/"
        },
        "id": "QtIOorWdO4PU",
        "outputId": "38f8d521-681d-46bd-ef4e-4bef4a21c9a9"
      },
      "source": [
        "len(links)"
      ],
      "execution_count": null,
      "outputs": [
        {
          "output_type": "execute_result",
          "data": {
            "text/plain": [
              "20"
            ]
          },
          "metadata": {},
          "execution_count": 8
        }
      ]
    }
  ]
}