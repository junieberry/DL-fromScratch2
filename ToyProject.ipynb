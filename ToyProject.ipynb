{
  "nbformat": 4,
  "nbformat_minor": 0,
  "metadata": {
    "colab": {
      "name": "ToyProject.ipynb",
      "provenance": [],
      "collapsed_sections": [],
      "authorship_tag": "ABX9TyPHMCjbNhAvYl/ZuyMAJgx/",
      "include_colab_link": true
    },
    "kernelspec": {
      "name": "python3",
      "display_name": "Python 3"
    },
    "language_info": {
      "name": "python"
    }
  },
  "cells": [
    {
      "cell_type": "markdown",
      "metadata": {
        "id": "view-in-github",
        "colab_type": "text"
      },
      "source": [
        "<a href=\"https://colab.research.google.com/github/junieberry/DL-fromScratch2/blob/main/ToyProject.ipynb\" target=\"_parent\"><img src=\"https://colab.research.google.com/assets/colab-badge.svg\" alt=\"Open In Colab\"/></a>"
      ]
    },
    {
      "cell_type": "markdown",
      "metadata": {
        "id": "vGS1BO997wY2"
      },
      "source": [
        "## NLP Project : 한국어 영화 리뷰 감정 분석"
      ]
    },
    {
      "cell_type": "markdown",
      "metadata": {
        "id": "FyoQc6m47tHY"
      },
      "source": [
        "## 데이터 column 정보\n",
        "\n",
        "- id : naver에서 제공하는 id\n",
        "- document : 리뷰\n",
        "- label : 레이블(0 : negative, 1: positive)"
      ]
    },
    {
      "cell_type": "code",
      "metadata": {
        "colab": {
          "base_uri": "https://localhost:8080/"
        },
        "id": "oCkvlEQF3ShE",
        "outputId": "19eb7806-2a51-4cc0-8735-cca91c5aa827"
      },
      "source": [
        "!git clone https://github.com/e9t/nsmc.git"
      ],
      "execution_count": 1,
      "outputs": [
        {
          "output_type": "stream",
          "text": [
            "Cloning into 'nsmc'...\n",
            "remote: Enumerating objects: 14763, done.\u001b[K\n",
            "remote: Total 14763 (delta 0), reused 0 (delta 0), pack-reused 14763\u001b[K\n",
            "Receiving objects: 100% (14763/14763), 56.19 MiB | 17.70 MiB/s, done.\n",
            "Resolving deltas: 100% (1749/1749), done.\n",
            "Checking out files: 100% (14737/14737), done.\n"
          ],
          "name": "stdout"
        }
      ]
    },
    {
      "cell_type": "code",
      "metadata": {
        "colab": {
          "base_uri": "https://localhost:8080/"
        },
        "id": "DNKn2x2g7LzS",
        "outputId": "178fb68a-b165-4243-e1b5-dd96b6c92ebd"
      },
      "source": [
        "import pandas as pd\n",
        "\n",
        "## 필드 구문이 탭으로 되어 있어서 \\t로 구분자를 지정해준다.\n",
        "train = pd.read_csv(\"nsmc/ratings_train.txt\",\"\\t\")\n",
        "test = pd.read_csv(\"nsmc/ratings_test.txt\",\"\\t\")\n",
        "\n",
        "print(train.shape)\n",
        "print(test.shape)"
      ],
      "execution_count": 2,
      "outputs": [
        {
          "output_type": "stream",
          "text": [
            "(150000, 3)\n",
            "(50000, 3)\n"
          ],
          "name": "stdout"
        }
      ]
    },
    {
      "cell_type": "code",
      "metadata": {
        "colab": {
          "base_uri": "https://localhost:8080/",
          "height": 434
        },
        "id": "tL8rzh1oqx2u",
        "outputId": "27d76977-9dec-439f-daa5-1cf10f014523"
      },
      "source": [
        "train"
      ],
      "execution_count": 3,
      "outputs": [
        {
          "output_type": "execute_result",
          "data": {
            "text/html": [
              "<div>\n",
              "<style scoped>\n",
              "    .dataframe tbody tr th:only-of-type {\n",
              "        vertical-align: middle;\n",
              "    }\n",
              "\n",
              "    .dataframe tbody tr th {\n",
              "        vertical-align: top;\n",
              "    }\n",
              "\n",
              "    .dataframe thead th {\n",
              "        text-align: right;\n",
              "    }\n",
              "</style>\n",
              "<table border=\"1\" class=\"dataframe\">\n",
              "  <thead>\n",
              "    <tr style=\"text-align: right;\">\n",
              "      <th></th>\n",
              "      <th>id</th>\n",
              "      <th>document</th>\n",
              "      <th>label</th>\n",
              "    </tr>\n",
              "  </thead>\n",
              "  <tbody>\n",
              "    <tr>\n",
              "      <th>0</th>\n",
              "      <td>9976970</td>\n",
              "      <td>아 더빙.. 진짜 짜증나네요 목소리</td>\n",
              "      <td>0</td>\n",
              "    </tr>\n",
              "    <tr>\n",
              "      <th>1</th>\n",
              "      <td>3819312</td>\n",
              "      <td>흠...포스터보고 초딩영화줄....오버연기조차 가볍지 않구나</td>\n",
              "      <td>1</td>\n",
              "    </tr>\n",
              "    <tr>\n",
              "      <th>2</th>\n",
              "      <td>10265843</td>\n",
              "      <td>너무재밓었다그래서보는것을추천한다</td>\n",
              "      <td>0</td>\n",
              "    </tr>\n",
              "    <tr>\n",
              "      <th>3</th>\n",
              "      <td>9045019</td>\n",
              "      <td>교도소 이야기구먼 ..솔직히 재미는 없다..평점 조정</td>\n",
              "      <td>0</td>\n",
              "    </tr>\n",
              "    <tr>\n",
              "      <th>4</th>\n",
              "      <td>6483659</td>\n",
              "      <td>사이몬페그의 익살스런 연기가 돋보였던 영화!스파이더맨에서 늙어보이기만 했던 커스틴 ...</td>\n",
              "      <td>1</td>\n",
              "    </tr>\n",
              "    <tr>\n",
              "      <th>...</th>\n",
              "      <td>...</td>\n",
              "      <td>...</td>\n",
              "      <td>...</td>\n",
              "    </tr>\n",
              "    <tr>\n",
              "      <th>149995</th>\n",
              "      <td>6222902</td>\n",
              "      <td>인간이 문제지.. 소는 뭔죄인가..</td>\n",
              "      <td>0</td>\n",
              "    </tr>\n",
              "    <tr>\n",
              "      <th>149996</th>\n",
              "      <td>8549745</td>\n",
              "      <td>평점이 너무 낮아서...</td>\n",
              "      <td>1</td>\n",
              "    </tr>\n",
              "    <tr>\n",
              "      <th>149997</th>\n",
              "      <td>9311800</td>\n",
              "      <td>이게 뭐요? 한국인은 거들먹거리고 필리핀 혼혈은 착하다?</td>\n",
              "      <td>0</td>\n",
              "    </tr>\n",
              "    <tr>\n",
              "      <th>149998</th>\n",
              "      <td>2376369</td>\n",
              "      <td>청춘 영화의 최고봉.방황과 우울했던 날들의 자화상</td>\n",
              "      <td>1</td>\n",
              "    </tr>\n",
              "    <tr>\n",
              "      <th>149999</th>\n",
              "      <td>9619869</td>\n",
              "      <td>한국 영화 최초로 수간하는 내용이 담긴 영화</td>\n",
              "      <td>0</td>\n",
              "    </tr>\n",
              "  </tbody>\n",
              "</table>\n",
              "<p>150000 rows × 3 columns</p>\n",
              "</div>"
            ],
            "text/plain": [
              "              id                                           document  label\n",
              "0        9976970                                아 더빙.. 진짜 짜증나네요 목소리      0\n",
              "1        3819312                  흠...포스터보고 초딩영화줄....오버연기조차 가볍지 않구나      1\n",
              "2       10265843                                  너무재밓었다그래서보는것을추천한다      0\n",
              "3        9045019                      교도소 이야기구먼 ..솔직히 재미는 없다..평점 조정      0\n",
              "4        6483659  사이몬페그의 익살스런 연기가 돋보였던 영화!스파이더맨에서 늙어보이기만 했던 커스틴 ...      1\n",
              "...          ...                                                ...    ...\n",
              "149995   6222902                                인간이 문제지.. 소는 뭔죄인가..      0\n",
              "149996   8549745                                      평점이 너무 낮아서...      1\n",
              "149997   9311800                    이게 뭐요? 한국인은 거들먹거리고 필리핀 혼혈은 착하다?      0\n",
              "149998   2376369                        청춘 영화의 최고봉.방황과 우울했던 날들의 자화상      1\n",
              "149999   9619869                           한국 영화 최초로 수간하는 내용이 담긴 영화      0\n",
              "\n",
              "[150000 rows x 3 columns]"
            ]
          },
          "metadata": {},
          "execution_count": 3
        }
      ]
    },
    {
      "cell_type": "markdown",
      "metadata": {
        "id": "XD83Q3J--vXO"
      },
      "source": [
        "## 데이터 전처리\n",
        "Konlpy를 사용한 `형태소 분석 및 품사 태깅\n"
      ]
    },
    {
      "cell_type": "code",
      "metadata": {
        "id": "3kzVefMvVYqF"
      },
      "source": [
        "!pip install konlpy\n",
        "%env JAVA_HOME \"C:\\Program Files\\Java\\jdk-14.0.2\""
      ],
      "execution_count": null,
      "outputs": []
    },
    {
      "cell_type": "code",
      "metadata": {
        "colab": {
          "base_uri": "https://localhost:8080/"
        },
        "id": "ZZI8zPDa_jwd",
        "outputId": "6efb09bb-7a61-4752-de77-3416f8c633fb"
      },
      "source": [
        "import konlpy\n",
        "from konlpy.tag import Okt\n",
        "\n",
        "okt = Okt()\n",
        "\n",
        "print(\"okt.morph >> \",okt.morphs(u\"우리는 파이썬에서 정한 규칙을 벗어났기 때문에 에러를 만나게 됩니다.\"))\n",
        "print(\"okt.nouns >> \", okt.nouns(u\"파이썬은 에러가 발생한경우에 굉장히 친절하게 알려주는 언어입니다.\"))\n",
        "print(\"okt.phrases >>\" , okt.phrases(u'파이썬 에러 발생한 문장을 보면, 에러가 발생한 파일이름과 몇번째 줄인지, 그리고 에러가 발생한 문장도 함께 보여줍니다.'))\n",
        "print(\"okt.pos >>\", okt.pos(u\"에러를 만난다면, 당황하지 않고 먼저 읽으시기 바랍니다.\"))\n",
        "print(\"okt.pos >>\", okt.pos(u\"ㅋㅋㅋㅋ야 이거 실화냐? 개꿀잼\"))\n",
        "print(\"okt.pos >>\", okt.pos(u\"그렇게 하면 안돼\"))\n",
        "print(\"okt.pos >>\", okt.pos(u\"그러케 하면 않되\"))"
      ],
      "execution_count": 8,
      "outputs": [
        {
          "output_type": "stream",
          "text": [
            "okt.morph >>  ['우리', '는', '파이썬', '에서', '정', '한', '규칙', '을', '벗어났기', '때문', '에', '에러', '를', '만나게', '됩니다', '.']\n",
            "okt.nouns >>  ['파이썬', '에러', '발생', '경우', '언어']\n",
            "okt.phrases >> ['파이썬', '파이썬 에러', '파이썬 에러 발생', '문장', '에러', '발생', '파일이름', '파일이름과 몇번째', '파일이름과 몇번째 줄', '몇번째']\n",
            "okt.pos >> [('에러', 'Noun'), ('를', 'Josa'), ('만난다면', 'Verb'), (',', 'Punctuation'), ('당황', 'Noun'), ('하지', 'Verb'), ('않고', 'Verb'), ('먼저', 'Noun'), ('읽으시기', 'Verb'), ('바랍니다', 'Verb'), ('.', 'Punctuation')]\n",
            "okt.pos >> [('ㅋㅋㅋㅋ', 'KoreanParticle'), ('야', 'Exclamation'), ('이', 'Determiner'), ('거', 'Noun'), ('실화', 'Noun'), ('냐', 'Josa'), ('?', 'Punctuation'), ('개꿀잼', 'Noun')]\n",
            "okt.pos >> [('그렇게', 'Adverb'), ('하면', 'Verb'), ('안', 'VerbPrefix'), ('돼', 'Verb')]\n",
            "okt.pos >> [('그러케', 'Noun'), ('하면', 'Verb'), ('않되', 'Verb')]\n"
          ],
          "name": "stdout"
        }
      ]
    },
    {
      "cell_type": "code",
      "metadata": {
        "id": "PM0IF2sYPTUN"
      },
      "source": [
        "def tokenize(sentence):\n",
        "  ## 형태소와 품사를 join\n",
        "  return ['/'.join(t) for t in okt.pos(sentence, norm=True, stem=True)]"
      ],
      "execution_count": 11,
      "outputs": []
    },
    {
      "cell_type": "code",
      "metadata": {
        "id": "ZpC3DnmIsbBq"
      },
      "source": [
        "train.isnull().any() #document에 null값이 있다.\n",
        "train['document'] = train['document'].fillna('')\n",
        "\n",
        "test.isnull().any()\n",
        "test['document'] = test['document'].fillna('')"
      ],
      "execution_count": 12,
      "outputs": []
    },
    {
      "cell_type": "code",
      "metadata": {
        "id": "Nz1ThN6I4PkG"
      },
      "source": [
        "train_docs = [(tokenize(row[1]), row[2]) for row in train.values]\n",
        "test_docs = [(tokenize(row[1]), row[2]) for row in test.values]"
      ],
      "execution_count": 13,
      "outputs": []
    },
    {
      "cell_type": "code",
      "metadata": {
        "colab": {
          "base_uri": "https://localhost:8080/"
        },
        "id": "a3mO7GY87mmA",
        "outputId": "d39029f5-0706-4a8c-959d-b161be749e83"
      },
      "source": [
        "train_docs[2]"
      ],
      "execution_count": 14,
      "outputs": [
        {
          "output_type": "execute_result",
          "data": {
            "text/plain": [
              "(['너/Modifier',\n",
              "  '무재/Noun',\n",
              "  '밓었/Noun',\n",
              "  '다그/Noun',\n",
              "  '래서/Noun',\n",
              "  '보다/Verb',\n",
              "  '추천/Noun',\n",
              "  '한/Josa',\n",
              "  '다/Adverb'],\n",
              " 0)"
            ]
          },
          "metadata": {},
          "execution_count": 14
        }
      ]
    },
    {
      "cell_type": "code",
      "metadata": {
        "colab": {
          "base_uri": "https://localhost:8080/"
        },
        "id": "XkkC1cVWu1DT",
        "outputId": "f1772787-93da-4fcf-9a16-0f12d4222361"
      },
      "source": [
        "tokens = [t for d in train_docs for t in d[0]]\n",
        "print(\"토큰개수:\", len(tokens))"
      ],
      "execution_count": 15,
      "outputs": [
        {
          "output_type": "stream",
          "text": [
            "토큰개수: 2159921\n"
          ],
          "name": "stdout"
        }
      ]
    },
    {
      "cell_type": "code",
      "metadata": {
        "id": "jSygKu6gWf6S"
      },
      "source": [
        ""
      ],
      "execution_count": null,
      "outputs": []
    }
  ]
}