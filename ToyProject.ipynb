{
  "nbformat": 4,
  "nbformat_minor": 0,
  "metadata": {
    "colab": {
      "name": "ToyProject.ipynb",
      "provenance": [],
      "collapsed_sections": [],
      "authorship_tag": "ABX9TyOM8dGfBq3sl4ETIWLJCdNK",
      "include_colab_link": true
    },
    "kernelspec": {
      "name": "python3",
      "display_name": "Python 3"
    },
    "language_info": {
      "name": "python"
    }
  },
  "cells": [
    {
      "cell_type": "markdown",
      "metadata": {
        "id": "view-in-github",
        "colab_type": "text"
      },
      "source": [
        "<a href=\"https://colab.research.google.com/github/junieberry/DL-fromScratch2/blob/main/ToyProject.ipynb\" target=\"_parent\"><img src=\"https://colab.research.google.com/assets/colab-badge.svg\" alt=\"Open In Colab\"/></a>"
      ]
    },
    {
      "cell_type": "markdown",
      "metadata": {
        "id": "vGS1BO997wY2"
      },
      "source": [
        "# NLP Project : 한국어 영화 리뷰 감정 분석\n",
        "\n",
        "### issue\n",
        "- 정규 표현식"
      ]
    },
    {
      "cell_type": "code",
      "metadata": {
        "id": "3kzVefMvVYqF",
        "colab": {
          "base_uri": "https://localhost:8080/"
        },
        "outputId": "95dd0841-1773-4298-df6c-be3e53573b1a"
      },
      "source": [
        "!pip install konlpy\n",
        "%env JAVA_HOME \"C:\\Program Files\\Java\\jdk-14.0.2\""
      ],
      "execution_count": 18,
      "outputs": [
        {
          "output_type": "stream",
          "text": [
            "Requirement already satisfied: konlpy in /usr/local/lib/python3.7/dist-packages (0.5.2)\n",
            "Requirement already satisfied: lxml>=4.1.0 in /usr/local/lib/python3.7/dist-packages (from konlpy) (4.2.6)\n",
            "Requirement already satisfied: beautifulsoup4==4.6.0 in /usr/local/lib/python3.7/dist-packages (from konlpy) (4.6.0)\n",
            "Requirement already satisfied: colorama in /usr/local/lib/python3.7/dist-packages (from konlpy) (0.4.4)\n",
            "Requirement already satisfied: numpy>=1.6 in /usr/local/lib/python3.7/dist-packages (from konlpy) (1.19.5)\n",
            "Requirement already satisfied: tweepy>=3.7.0 in /usr/local/lib/python3.7/dist-packages (from konlpy) (3.10.0)\n",
            "Requirement already satisfied: JPype1>=0.7.0 in /usr/local/lib/python3.7/dist-packages (from konlpy) (1.3.0)\n",
            "Requirement already satisfied: typing-extensions in /usr/local/lib/python3.7/dist-packages (from JPype1>=0.7.0->konlpy) (3.7.4.3)\n",
            "Requirement already satisfied: six>=1.10.0 in /usr/local/lib/python3.7/dist-packages (from tweepy>=3.7.0->konlpy) (1.15.0)\n",
            "Requirement already satisfied: requests[socks]>=2.11.1 in /usr/local/lib/python3.7/dist-packages (from tweepy>=3.7.0->konlpy) (2.23.0)\n",
            "Requirement already satisfied: requests-oauthlib>=0.7.0 in /usr/local/lib/python3.7/dist-packages (from tweepy>=3.7.0->konlpy) (1.3.0)\n",
            "Requirement already satisfied: oauthlib>=3.0.0 in /usr/local/lib/python3.7/dist-packages (from requests-oauthlib>=0.7.0->tweepy>=3.7.0->konlpy) (3.1.1)\n",
            "Requirement already satisfied: certifi>=2017.4.17 in /usr/local/lib/python3.7/dist-packages (from requests[socks]>=2.11.1->tweepy>=3.7.0->konlpy) (2021.5.30)\n",
            "Requirement already satisfied: chardet<4,>=3.0.2 in /usr/local/lib/python3.7/dist-packages (from requests[socks]>=2.11.1->tweepy>=3.7.0->konlpy) (3.0.4)\n",
            "Requirement already satisfied: urllib3!=1.25.0,!=1.25.1,<1.26,>=1.21.1 in /usr/local/lib/python3.7/dist-packages (from requests[socks]>=2.11.1->tweepy>=3.7.0->konlpy) (1.24.3)\n",
            "Requirement already satisfied: idna<3,>=2.5 in /usr/local/lib/python3.7/dist-packages (from requests[socks]>=2.11.1->tweepy>=3.7.0->konlpy) (2.10)\n",
            "Requirement already satisfied: PySocks!=1.5.7,>=1.5.6 in /usr/local/lib/python3.7/dist-packages (from requests[socks]>=2.11.1->tweepy>=3.7.0->konlpy) (1.7.1)\n",
            "env: JAVA_HOME=\"C:\\Program Files\\Java\\jdk-14.0.2\"\n"
          ],
          "name": "stdout"
        }
      ]
    },
    {
      "cell_type": "code",
      "metadata": {
        "id": "3G3FoE6e2597"
      },
      "source": [
        "import numpy as np\n",
        "import pandas as pd\n",
        "import konlpy\n",
        "from konlpy.tag import Okt\n",
        "from tensorflow.keras.preprocessing.text import Tokenizer\n",
        "from tensorflow.keras.preprocessing.sequence import pad_sequences\n",
        "import matplotlib.pyplot as plt\n"
      ],
      "execution_count": 47,
      "outputs": []
    },
    {
      "cell_type": "markdown",
      "metadata": {
        "id": "FyoQc6m47tHY"
      },
      "source": [
        "## 데이터 column 정보\n",
        "\n",
        "- id : naver에서 제공하는 id\n",
        "- document : 리뷰\n",
        "- label : 레이블(0 : negative, 1: positive)"
      ]
    },
    {
      "cell_type": "code",
      "metadata": {
        "colab": {
          "base_uri": "https://localhost:8080/"
        },
        "id": "oCkvlEQF3ShE",
        "outputId": "c536298e-feb2-4283-ddbe-83b8b0bc4074"
      },
      "source": [
        "!git clone https://github.com/e9t/nsmc.git"
      ],
      "execution_count": 20,
      "outputs": [
        {
          "output_type": "stream",
          "text": [
            "fatal: destination path 'nsmc' already exists and is not an empty directory.\n"
          ],
          "name": "stdout"
        }
      ]
    },
    {
      "cell_type": "code",
      "metadata": {
        "colab": {
          "base_uri": "https://localhost:8080/"
        },
        "id": "DNKn2x2g7LzS",
        "outputId": "2df128d4-d09f-48ab-e717-b35921856a61"
      },
      "source": [
        "## 필드 구문이 탭으로 되어 있어서 \\t로 구분자를 지정해준다.\n",
        "train_data = pd.read_csv(\"nsmc/ratings_train.txt\",\"\\t\")\n",
        "test_data = pd.read_csv(\"nsmc/ratings_test.txt\",\"\\t\")\n",
        "\n",
        "print(train_data.shape)\n",
        "print(test_data.shape)"
      ],
      "execution_count": 21,
      "outputs": [
        {
          "output_type": "stream",
          "text": [
            "(150000, 3)\n",
            "(50000, 3)\n"
          ],
          "name": "stdout"
        }
      ]
    },
    {
      "cell_type": "code",
      "metadata": {
        "colab": {
          "base_uri": "https://localhost:8080/",
          "height": 419
        },
        "id": "tL8rzh1oqx2u",
        "outputId": "92e3e33b-dae1-451d-f510-ba3df04f1ce5"
      },
      "source": [
        "train_data"
      ],
      "execution_count": 22,
      "outputs": [
        {
          "output_type": "execute_result",
          "data": {
            "text/html": [
              "<div>\n",
              "<style scoped>\n",
              "    .dataframe tbody tr th:only-of-type {\n",
              "        vertical-align: middle;\n",
              "    }\n",
              "\n",
              "    .dataframe tbody tr th {\n",
              "        vertical-align: top;\n",
              "    }\n",
              "\n",
              "    .dataframe thead th {\n",
              "        text-align: right;\n",
              "    }\n",
              "</style>\n",
              "<table border=\"1\" class=\"dataframe\">\n",
              "  <thead>\n",
              "    <tr style=\"text-align: right;\">\n",
              "      <th></th>\n",
              "      <th>id</th>\n",
              "      <th>document</th>\n",
              "      <th>label</th>\n",
              "    </tr>\n",
              "  </thead>\n",
              "  <tbody>\n",
              "    <tr>\n",
              "      <th>0</th>\n",
              "      <td>9976970</td>\n",
              "      <td>아 더빙.. 진짜 짜증나네요 목소리</td>\n",
              "      <td>0</td>\n",
              "    </tr>\n",
              "    <tr>\n",
              "      <th>1</th>\n",
              "      <td>3819312</td>\n",
              "      <td>흠...포스터보고 초딩영화줄....오버연기조차 가볍지 않구나</td>\n",
              "      <td>1</td>\n",
              "    </tr>\n",
              "    <tr>\n",
              "      <th>2</th>\n",
              "      <td>10265843</td>\n",
              "      <td>너무재밓었다그래서보는것을추천한다</td>\n",
              "      <td>0</td>\n",
              "    </tr>\n",
              "    <tr>\n",
              "      <th>3</th>\n",
              "      <td>9045019</td>\n",
              "      <td>교도소 이야기구먼 ..솔직히 재미는 없다..평점 조정</td>\n",
              "      <td>0</td>\n",
              "    </tr>\n",
              "    <tr>\n",
              "      <th>4</th>\n",
              "      <td>6483659</td>\n",
              "      <td>사이몬페그의 익살스런 연기가 돋보였던 영화!스파이더맨에서 늙어보이기만 했던 커스틴 ...</td>\n",
              "      <td>1</td>\n",
              "    </tr>\n",
              "    <tr>\n",
              "      <th>...</th>\n",
              "      <td>...</td>\n",
              "      <td>...</td>\n",
              "      <td>...</td>\n",
              "    </tr>\n",
              "    <tr>\n",
              "      <th>149995</th>\n",
              "      <td>6222902</td>\n",
              "      <td>인간이 문제지.. 소는 뭔죄인가..</td>\n",
              "      <td>0</td>\n",
              "    </tr>\n",
              "    <tr>\n",
              "      <th>149996</th>\n",
              "      <td>8549745</td>\n",
              "      <td>평점이 너무 낮아서...</td>\n",
              "      <td>1</td>\n",
              "    </tr>\n",
              "    <tr>\n",
              "      <th>149997</th>\n",
              "      <td>9311800</td>\n",
              "      <td>이게 뭐요? 한국인은 거들먹거리고 필리핀 혼혈은 착하다?</td>\n",
              "      <td>0</td>\n",
              "    </tr>\n",
              "    <tr>\n",
              "      <th>149998</th>\n",
              "      <td>2376369</td>\n",
              "      <td>청춘 영화의 최고봉.방황과 우울했던 날들의 자화상</td>\n",
              "      <td>1</td>\n",
              "    </tr>\n",
              "    <tr>\n",
              "      <th>149999</th>\n",
              "      <td>9619869</td>\n",
              "      <td>한국 영화 최초로 수간하는 내용이 담긴 영화</td>\n",
              "      <td>0</td>\n",
              "    </tr>\n",
              "  </tbody>\n",
              "</table>\n",
              "<p>150000 rows × 3 columns</p>\n",
              "</div>"
            ],
            "text/plain": [
              "              id                                           document  label\n",
              "0        9976970                                아 더빙.. 진짜 짜증나네요 목소리      0\n",
              "1        3819312                  흠...포스터보고 초딩영화줄....오버연기조차 가볍지 않구나      1\n",
              "2       10265843                                  너무재밓었다그래서보는것을추천한다      0\n",
              "3        9045019                      교도소 이야기구먼 ..솔직히 재미는 없다..평점 조정      0\n",
              "4        6483659  사이몬페그의 익살스런 연기가 돋보였던 영화!스파이더맨에서 늙어보이기만 했던 커스틴 ...      1\n",
              "...          ...                                                ...    ...\n",
              "149995   6222902                                인간이 문제지.. 소는 뭔죄인가..      0\n",
              "149996   8549745                                      평점이 너무 낮아서...      1\n",
              "149997   9311800                    이게 뭐요? 한국인은 거들먹거리고 필리핀 혼혈은 착하다?      0\n",
              "149998   2376369                        청춘 영화의 최고봉.방황과 우울했던 날들의 자화상      1\n",
              "149999   9619869                           한국 영화 최초로 수간하는 내용이 담긴 영화      0\n",
              "\n",
              "[150000 rows x 3 columns]"
            ]
          },
          "metadata": {},
          "execution_count": 22
        }
      ]
    },
    {
      "cell_type": "markdown",
      "metadata": {
        "id": "XD83Q3J--vXO"
      },
      "source": [
        "## 데이터 정제\n",
        "### 중복 제거\n"
      ]
    },
    {
      "cell_type": "code",
      "metadata": {
        "colab": {
          "base_uri": "https://localhost:8080/"
        },
        "id": "-00n9xj_txSi",
        "outputId": "9e173ff8-9eae-42c9-de82-937e046ad97a"
      },
      "source": [
        "## document 열에서 중복 제거한 샘플의 개수, label 열에서 중복 제거한 샘플의 개수\n",
        "train_data['id'].nunique(), train_data['document'].nunique(), train_data['label'].nunique()"
      ],
      "execution_count": 23,
      "outputs": [
        {
          "output_type": "execute_result",
          "data": {
            "text/plain": [
              "(150000, 146182, 2)"
            ]
          },
          "metadata": {},
          "execution_count": 23
        }
      ]
    },
    {
      "cell_type": "code",
      "metadata": {
        "colab": {
          "base_uri": "https://localhost:8080/"
        },
        "id": "2E55LiqPvic5",
        "outputId": "8408f8c0-ec21-4632-aa1c-f946b3fccbbd"
      },
      "source": [
        "## 중복 데이터 제거\n",
        "train_data.drop_duplicates(subset=['document'], inplace=True)\n",
        "test_data.drop_duplicates(subset=['document'], inplace=True)\n",
        "\n",
        "print('중복 제거된 train data >> ',len(train_data))\n",
        "print('중복 제거된 test data >> ',len(test_data))"
      ],
      "execution_count": 24,
      "outputs": [
        {
          "output_type": "stream",
          "text": [
            "중복 제거된 train data >>  146183\n",
            "중복 제거된 test data >>  49158\n"
          ],
          "name": "stdout"
        }
      ]
    },
    {
      "cell_type": "markdown",
      "metadata": {
        "id": "1A5lYpoevWOU"
      },
      "source": [
        "### Null 제거"
      ]
    },
    {
      "cell_type": "code",
      "metadata": {
        "colab": {
          "base_uri": "https://localhost:8080/"
        },
        "id": "y-joWXMEvzSZ",
        "outputId": "296f5ea1-8cda-4e24-9e8e-5b6d3f2edaa5"
      },
      "source": [
        "## 널값 확인\n",
        "print(train_data.isnull().sum())\n",
        "print(test_data.isnull().sum())"
      ],
      "execution_count": 25,
      "outputs": [
        {
          "output_type": "stream",
          "text": [
            "id          0\n",
            "document    1\n",
            "label       0\n",
            "dtype: int64\n",
            "id          0\n",
            "document    1\n",
            "label       0\n",
            "dtype: int64\n"
          ],
          "name": "stdout"
        }
      ]
    },
    {
      "cell_type": "code",
      "metadata": {
        "colab": {
          "base_uri": "https://localhost:8080/"
        },
        "id": "OmPXipo6vVZB",
        "outputId": "ff0d14ce-afb5-460b-d170-03efa7f8512a"
      },
      "source": [
        "## Null 값이 존재하는 행 제거\n",
        "train_data = train_data.dropna(how = 'any')\n",
        "test_data = test_data.dropna(how = 'any')\n",
        "\n",
        "print(len(train_data))\n",
        "print(len(test_data))"
      ],
      "execution_count": 26,
      "outputs": [
        {
          "output_type": "stream",
          "text": [
            "146182\n",
            "49157\n"
          ],
          "name": "stdout"
        }
      ]
    },
    {
      "cell_type": "markdown",
      "metadata": {
        "id": "9vAbXJHHyYQA"
      },
      "source": [
        "## 데이터 전처리"
      ]
    },
    {
      "cell_type": "code",
      "metadata": {
        "colab": {
          "base_uri": "https://localhost:8080/"
        },
        "id": "NjmPjyzUyqXX",
        "outputId": "d1a4e106-2205-490c-8532-dd2a1884dd7b"
      },
      "source": [
        "## 정규 표현식을 사용해 한글만 남기고 제거\n",
        "train_data['document'] = train_data['document'].str.replace(\"[^ㄱ-ㅎㅏ-ㅣ가-힣 ]\",\"\")\n",
        "test_data['document'] = test_data['document'].str.replace(\"[^ㄱ-ㅎㅏ-ㅣ가-힣 ]\",\"\")\n",
        "\n",
        "## white space data나 empty data를 Null으로 변경하고 제거\n",
        "train_data['document'] = train_data['document'].str.replace(\"^ +\",\"\")\n",
        "train_data['document'].replace('',np.nan,inplace=True)\n",
        "train_data = train_data.dropna(how = 'any')\n",
        "\n",
        "test_data['document'] = test_data['document'].str.replace(\"^ +\",\"\")\n",
        "test_data['document'].replace('',np.nan,inplace=True)\n",
        "test_data = test_data.dropna(how = 'any')\n",
        "\n",
        "print(len(train_data))\n",
        "print(len(test_data))"
      ],
      "execution_count": 27,
      "outputs": [
        {
          "output_type": "stream",
          "text": [
            "/usr/local/lib/python3.7/dist-packages/ipykernel_launcher.py:2: SettingWithCopyWarning: \n",
            "A value is trying to be set on a copy of a slice from a DataFrame.\n",
            "Try using .loc[row_indexer,col_indexer] = value instead\n",
            "\n",
            "See the caveats in the documentation: https://pandas.pydata.org/pandas-docs/stable/user_guide/indexing.html#returning-a-view-versus-a-copy\n",
            "  \n"
          ],
          "name": "stderr"
        },
        {
          "output_type": "stream",
          "text": [
            "145393\n",
            "48852\n"
          ],
          "name": "stdout"
        },
        {
          "output_type": "stream",
          "text": [
            "/usr/local/lib/python3.7/dist-packages/ipykernel_launcher.py:6: SettingWithCopyWarning: \n",
            "A value is trying to be set on a copy of a slice from a DataFrame.\n",
            "Try using .loc[row_indexer,col_indexer] = value instead\n",
            "\n",
            "See the caveats in the documentation: https://pandas.pydata.org/pandas-docs/stable/user_guide/indexing.html#returning-a-view-versus-a-copy\n",
            "  \n",
            "/usr/local/lib/python3.7/dist-packages/pandas/core/series.py:4582: SettingWithCopyWarning: \n",
            "A value is trying to be set on a copy of a slice from a DataFrame\n",
            "\n",
            "See the caveats in the documentation: https://pandas.pydata.org/pandas-docs/stable/user_guide/indexing.html#returning-a-view-versus-a-copy\n",
            "  method=method,\n"
          ],
          "name": "stderr"
        }
      ]
    },
    {
      "cell_type": "markdown",
      "metadata": {
        "id": "MsZaILu63NKW"
      },
      "source": [
        "### Tokenize\n",
        "\n",
        "불용어 제거\n",
        "\n",
        "- 불용어는 정의하기 나름이다!"
      ]
    },
    {
      "cell_type": "code",
      "metadata": {
        "id": "iRY4uhXD4uo1"
      },
      "source": [
        "stopwords = ['의','가','이','은','들','는','좀','잘','걍','과','도','를','으로','자','에','와','한','하다']"
      ],
      "execution_count": 28,
      "outputs": []
    },
    {
      "cell_type": "code",
      "metadata": {
        "colab": {
          "base_uri": "https://localhost:8080/"
        },
        "id": "ZZI8zPDa_jwd",
        "outputId": "5ddbe653-f47e-41a1-d726-3c5c024099b4"
      },
      "source": [
        "## KoNLPy에서 제공하는 형태소 분석기\n",
        "## stem 옵션으로 정규화 수행\n",
        "okt = Okt()\n",
        "\n",
        "print(\"okt.morph >> \",okt.morphs(u\"우리는 파이썬에서 정한 규칙을 벗어났기 때문에 에러를 만나게 됩니다.\", stem = True))\n",
        "print(\"okt.nouns >> \", okt.nouns(u\"파이썬은 에러가 발생한경우에 굉장히 친절하게 알려주는 언어입니다., stem = True\"))\n",
        "print(\"okt.phrases >>\" , okt.phrases(u'파이썬 에러 발생한 문장을 보면, 에러가 발생한 파일이름과 몇번째 줄인지, 그리고 에러가 발생한 문장도 함께 보여줍니다.'))\n",
        "print(\"okt.pos >>\", okt.pos(u\"에러를 만난다면, 당황하지 않고 먼저 읽으시기 바랍니다.\", stem = True))\n",
        "print(\"okt.pos >>\", okt.pos(u\"ㅋㅋㅋㅋ야 이거 실화냐? 개꿀잼\", stem = True))\n",
        "print(\"okt.pos >>\", okt.pos(u\"그렇게 하면 안돼\", stem = True))\n",
        "print(\"okt.pos >>\", okt.pos(u\"그러케 하면 않되\", stem = True))"
      ],
      "execution_count": 29,
      "outputs": [
        {
          "output_type": "stream",
          "text": [
            "okt.morph >>  ['우리', '는', '파이썬', '에서', '정', '한', '규칙', '을', '벗어나다', '때문', '에', '에러', '를', '만나다', '되다', '.']\n",
            "okt.nouns >>  ['파이썬', '에러', '발생', '경우', '언어']\n",
            "okt.phrases >> ['파이썬', '파이썬 에러', '파이썬 에러 발생', '문장', '에러', '발생', '파일이름', '파일이름과 몇번째', '파일이름과 몇번째 줄', '몇번째']\n",
            "okt.pos >> [('에러', 'Noun'), ('를', 'Josa'), ('만나다', 'Verb'), (',', 'Punctuation'), ('당황', 'Noun'), ('하다', 'Verb'), ('않다', 'Verb'), ('먼저', 'Noun'), ('읽다', 'Verb'), ('바라다', 'Verb'), ('.', 'Punctuation')]\n",
            "okt.pos >> [('ㅋㅋㅋㅋ', 'KoreanParticle'), ('야', 'Exclamation'), ('이', 'Determiner'), ('거', 'Noun'), ('실화', 'Noun'), ('냐', 'Josa'), ('?', 'Punctuation'), ('개꿀잼', 'Noun')]\n",
            "okt.pos >> [('그렇게', 'Adverb'), ('하다', 'Verb'), ('안', 'VerbPrefix'), ('돼다', 'Verb')]\n",
            "okt.pos >> [('그러케', 'Noun'), ('하다', 'Verb'), ('않다', 'Verb')]\n"
          ],
          "name": "stdout"
        }
      ]
    },
    {
      "cell_type": "code",
      "metadata": {
        "colab": {
          "base_uri": "https://localhost:8080/"
        },
        "id": "B_2nbqDr62b0",
        "outputId": "f90c747a-be13-4a7e-d57d-d732783a9e9c"
      },
      "source": [
        "## 불용어 제거\n",
        "X_train = []\n",
        "for sentence in train_data['document']:\n",
        "    temp_X = okt.morphs(sentence, stem=True)\n",
        "    temp_X = [word for word in temp_X if not word in stopwords]\n",
        "    X_train.append(temp_X)\n",
        "\n",
        "X_test = []\n",
        "for sentence in test_data['document']:\n",
        "    temp_X = okt.morphs(sentence, stem=True)\n",
        "    temp_X = [word for word in temp_X if not word in stopwords]\n",
        "    X_test.append(temp_X)\n",
        "\n",
        "print(X_train[0])\n",
        "print(X_test[0])"
      ],
      "execution_count": 17,
      "outputs": [
        {
          "output_type": "stream",
          "text": [
            "['아', '더빙', '진짜', '짜증나다', '목소리']\n",
            "['굳다', 'ㅋ']\n"
          ],
          "name": "stdout"
        }
      ]
    },
    {
      "cell_type": "markdown",
      "metadata": {
        "id": "X98h2u7w7yTt"
      },
      "source": [
        "### 정수 인코딩"
      ]
    },
    {
      "cell_type": "code",
      "metadata": {
        "id": "SSMnHeSA62qC"
      },
      "source": [
        "tokenizer = Tokenizer()\n",
        "tokenizer.fit_on_texts(X_train)\n",
        "\n",
        "## 전체 훈련 데이터에서 등장 빈도가 높은 순서대로 부여됨\n",
        "print(tokenizer.word_index)"
      ],
      "execution_count": null,
      "outputs": []
    },
    {
      "cell_type": "code",
      "metadata": {
        "colab": {
          "base_uri": "https://localhost:8080/"
        },
        "id": "lkdshC2M__cQ",
        "outputId": "9c1b3dc6-65a2-4b70-e179-18101474cea0"
      },
      "source": [
        "threshold = 3\n",
        "total_cnt = len(tokenizer.word_index) # 단어의 수\n",
        "rare_cnt = 0 # 등장 빈도수가 threshold보다 작은 단어의 개수를 카운트\n",
        "total_freq = 0 # 훈련 데이터의 전체 단어 빈도수 총 합\n",
        "rare_freq = 0 # 등장 빈도수가 threshold보다 작은 단어의 등장 빈도수의 총 합\n",
        "\n",
        "# 단어와 빈도수의 쌍(pair)을 key와 value로 받는다.\n",
        "for key, value in tokenizer.word_counts.items():\n",
        "    total_freq = total_freq + value\n",
        "\n",
        "    # 단어의 등장 빈도수가 threshold보다 작으면\n",
        "    if(value < threshold):\n",
        "        rare_cnt = rare_cnt + 1\n",
        "        rare_freq = rare_freq + value\n",
        "\n",
        "print('단어 개수 :',total_cnt)\n",
        "print('%s번 이하로 등장하는 단어의 수: %s'%(threshold - 1, rare_cnt))\n",
        "print(\"희귀 단어의 비율:\", (rare_cnt / total_cnt)*100)\n",
        "print(\"전체 등장 빈도에서 희귀 단어 등장 빈도 비율:\", (rare_freq / total_freq)*100)"
      ],
      "execution_count": 31,
      "outputs": [
        {
          "output_type": "stream",
          "text": [
            "단어 개수 : 43752\n",
            "2번 이하로 등장하는 단어의 수: 24337\n",
            "희귀 단어의 비율: 55.62488571950996\n",
            "전체 등장 빈도에서 희귀 단어 등장 빈도 비율: 1.8715872104872904\n"
          ],
          "name": "stdout"
        }
      ]
    },
    {
      "cell_type": "code",
      "metadata": {
        "colab": {
          "base_uri": "https://localhost:8080/"
        },
        "id": "h8fEKtWtAKZH",
        "outputId": "b2390c28-6ebc-43ce-ddf9-c42a4507974c"
      },
      "source": [
        "## 2번 이하로 등장하는 단어가 전체 단어의 55%나 차지하지만 등장 비율은 2%도 안됨 ==> 제거하자\n",
        "vocab_size = total_cnt - rare_cnt +1\n",
        "vocab_size"
      ],
      "execution_count": 32,
      "outputs": [
        {
          "output_type": "execute_result",
          "data": {
            "text/plain": [
              "19416"
            ]
          },
          "metadata": {},
          "execution_count": 32
        }
      ]
    },
    {
      "cell_type": "code",
      "metadata": {
        "id": "A1PDFD8DDjk9"
      },
      "source": [
        "tokenizer = Tokenizer(vocab_size) \n",
        "tokenizer.fit_on_texts(X_train)\n",
        "\n",
        "X_train = tokenizer.texts_to_sequences(X_train)\n",
        "X_test = tokenizer.texts_to_sequences(X_test)\n",
        "\n",
        "y_train = np.array(train_data['label'])\n",
        "y_test = np.array(test_data['label'])"
      ],
      "execution_count": 33,
      "outputs": []
    },
    {
      "cell_type": "markdown",
      "metadata": {
        "id": "r0EpsAJoCbY7"
      },
      "source": [
        "### 빈 샘플 제거"
      ]
    },
    {
      "cell_type": "code",
      "metadata": {
        "colab": {
          "base_uri": "https://localhost:8080/"
        },
        "id": "1wekRdBOEMND",
        "outputId": "78439f7d-e97e-425a-c8ef-0ab4061e8536"
      },
      "source": [
        "drop_train = [index for index, sentence in enumerate(X_train) if len(sentence) < 1]\n",
        "X_train = np.delete(X_train, drop_train, axis=0)\n",
        "y_train = np.delete(y_train, drop_train, axis=0)\n",
        "print(len(X_train))\n",
        "print(len(y_train))"
      ],
      "execution_count": 34,
      "outputs": [
        {
          "output_type": "stream",
          "text": [
            "145162\n",
            "145162\n"
          ],
          "name": "stdout"
        },
        {
          "output_type": "stream",
          "text": [
            "/usr/local/lib/python3.7/dist-packages/numpy/core/_asarray.py:83: VisibleDeprecationWarning: Creating an ndarray from ragged nested sequences (which is a list-or-tuple of lists-or-tuples-or ndarrays with different lengths or shapes) is deprecated. If you meant to do this, you must specify 'dtype=object' when creating the ndarray\n",
            "  return array(a, dtype, copy=False, order=order)\n"
          ],
          "name": "stderr"
        }
      ]
    },
    {
      "cell_type": "markdown",
      "metadata": {
        "id": "Nykv1zyMEhP9"
      },
      "source": [
        "### 패딩\n",
        "\n",
        "샘플들의 길이 동일하게 맞춰주기"
      ]
    },
    {
      "cell_type": "code",
      "metadata": {
        "id": "dq0qdA9mkqG2"
      },
      "source": [
        "print('리뷰 최대 길이 >> ', max(len(l) for l in X_train))\n",
        "print('리뷰 평균 길이 >> ', sum(map(len, X_train))/len(X_train))\n",
        "plt.hist([len(s) for s in X_train], bins=50)\n",
        "plt.xlabel('length of samples')\n",
        "plt.ylabel('number of samples')\n",
        "plt.show()"
      ],
      "execution_count": null,
      "outputs": []
    },
    {
      "cell_type": "code",
      "metadata": {
        "id": "73m9q5_REnd3"
      },
      "source": [
        "max_len=30\n",
        "X_train = pad_sequences(X_train, maxlen = max_len)\n",
        "X_test = pad_sequences(X_test, maxlen = max_len)"
      ],
      "execution_count": 35,
      "outputs": []
    },
    {
      "cell_type": "markdown",
      "metadata": {
        "id": "xDS9rGDsEsXw"
      },
      "source": [
        "# LSTM으로 분류하기"
      ]
    },
    {
      "cell_type": "code",
      "metadata": {
        "id": "ITe-U9qOEvVa"
      },
      "source": [
        "from tensorflow.keras.layers import Embedding, Dense, LSTM\n",
        "from tensorflow.keras.models import Sequential\n",
        "from tensorflow.keras.models import load_model\n",
        "from tensorflow.keras.callbacks import EarlyStopping, ModelCheckpoint"
      ],
      "execution_count": 36,
      "outputs": []
    },
    {
      "cell_type": "code",
      "metadata": {
        "id": "LIGzOP54ExwR"
      },
      "source": [
        "model = Sequential()\n",
        "model.add(Embedding(vocab_size, 100))\n",
        "model.add(LSTM(128))\n",
        "model.add(Dense(1, activation='sigmoid'))"
      ],
      "execution_count": 37,
      "outputs": []
    },
    {
      "cell_type": "code",
      "metadata": {
        "id": "QKg8bRbBEz5U"
      },
      "source": [
        "es = EarlyStopping(monitor='val_loss', mode='min', verbose=1, patience=4)\n",
        "mc = ModelCheckpoint('best_model.h5', monitor='val_acc', mode='max', verbose=1, save_best_only=True)"
      ],
      "execution_count": 38,
      "outputs": []
    },
    {
      "cell_type": "code",
      "metadata": {
        "id": "R04X9co_E1ZI",
        "colab": {
          "base_uri": "https://localhost:8080/"
        },
        "outputId": "f43b0951-fe5e-4a33-dc5e-3a1137a6d698"
      },
      "source": [
        "model.compile(optimizer='rmsprop', loss='binary_crossentropy', metrics=['acc'])\n",
        "history = model.fit(X_train, y_train, epochs=15, callbacks=[es, mc], batch_size=60, validation_split=0.2)"
      ],
      "execution_count": 39,
      "outputs": [
        {
          "output_type": "stream",
          "text": [
            "Epoch 1/15\n",
            "1936/1936 [==============================] - 177s 88ms/step - loss: 0.3895 - acc: 0.8224 - val_loss: 0.3699 - val_acc: 0.8416\n",
            "\n",
            "Epoch 00001: val_acc improved from -inf to 0.84159, saving model to best_model.h5\n",
            "Epoch 2/15\n",
            "1936/1936 [==============================] - 170s 88ms/step - loss: 0.3283 - acc: 0.8570 - val_loss: 0.3330 - val_acc: 0.8546\n",
            "\n",
            "Epoch 00002: val_acc improved from 0.84159 to 0.85461, saving model to best_model.h5\n",
            "Epoch 3/15\n",
            "1936/1936 [==============================] - 171s 89ms/step - loss: 0.3018 - acc: 0.8713 - val_loss: 0.3302 - val_acc: 0.8580\n",
            "\n",
            "Epoch 00003: val_acc improved from 0.85461 to 0.85799, saving model to best_model.h5\n",
            "Epoch 4/15\n",
            "1936/1936 [==============================] - 169s 87ms/step - loss: 0.2833 - acc: 0.8819 - val_loss: 0.3305 - val_acc: 0.8571\n",
            "\n",
            "Epoch 00004: val_acc did not improve from 0.85799\n",
            "Epoch 5/15\n",
            "1936/1936 [==============================] - 171s 88ms/step - loss: 0.2672 - acc: 0.8903 - val_loss: 0.3295 - val_acc: 0.8576\n",
            "\n",
            "Epoch 00005: val_acc did not improve from 0.85799\n",
            "Epoch 6/15\n",
            "1936/1936 [==============================] - 171s 88ms/step - loss: 0.2517 - acc: 0.8977 - val_loss: 0.3328 - val_acc: 0.8610\n",
            "\n",
            "Epoch 00006: val_acc improved from 0.85799 to 0.86099, saving model to best_model.h5\n",
            "Epoch 7/15\n",
            "1936/1936 [==============================] - 171s 88ms/step - loss: 0.2364 - acc: 0.9050 - val_loss: 0.3439 - val_acc: 0.8553\n",
            "\n",
            "Epoch 00007: val_acc did not improve from 0.86099\n",
            "Epoch 8/15\n",
            "1936/1936 [==============================] - 168s 87ms/step - loss: 0.2205 - acc: 0.9126 - val_loss: 0.3575 - val_acc: 0.8521\n",
            "\n",
            "Epoch 00008: val_acc did not improve from 0.86099\n",
            "Epoch 9/15\n",
            "1936/1936 [==============================] - 170s 88ms/step - loss: 0.2050 - acc: 0.9202 - val_loss: 0.3655 - val_acc: 0.8543\n",
            "\n",
            "Epoch 00009: val_acc did not improve from 0.86099\n",
            "Epoch 00009: early stopping\n"
          ],
          "name": "stdout"
        }
      ]
    },
    {
      "cell_type": "markdown",
      "metadata": {
        "id": "QvlgkWKnE9NI"
      },
      "source": [
        "### 테스트해보기"
      ]
    },
    {
      "cell_type": "code",
      "metadata": {
        "id": "vCgfYE9RE_AT",
        "colab": {
          "base_uri": "https://localhost:8080/"
        },
        "outputId": "eec2c16b-0c76-40b7-fa10-127d8e7d3447"
      },
      "source": [
        "loaded_model = load_model('best_model.h5')\n",
        "print(\"\\n 테스트 정확도: %.4f\" % (loaded_model.evaluate(X_test, y_test)[1]))"
      ],
      "execution_count": 40,
      "outputs": [
        {
          "output_type": "stream",
          "text": [
            "1527/1527 [==============================] - 22s 14ms/step - loss: 0.3419 - acc: 0.8566\n",
            "\n",
            " 테스트 정확도: 0.8566\n"
          ],
          "name": "stdout"
        }
      ]
    },
    {
      "cell_type": "markdown",
      "metadata": {
        "id": "KY5rajkvFBy2"
      },
      "source": [
        "### 리뷰 예측해보기"
      ]
    },
    {
      "cell_type": "code",
      "metadata": {
        "id": "aNNajMOME7pf"
      },
      "source": [
        "def sentiment_predict(new_sentence):\n",
        "  new_sentence = okt.morphs(new_sentence, stem=True) # 토큰화\n",
        "  new_sentence = [word for word in new_sentence if not word in stopwords] # 불용어 제거\n",
        "  encoded = tokenizer.texts_to_sequences([new_sentence]) # 정수 인코딩\n",
        "  pad_new = pad_sequences(encoded, maxlen = max_len) # 패딩\n",
        "  score = float(loaded_model.predict(pad_new)) # 예측\n",
        "  if(score > 0.5):\n",
        "    print(\"{:.2f}% 확률로 긍정 리뷰입니다.\\n\".format(score * 100))\n",
        "  else:\n",
        "    print(\"{:.2f}% 확률로 부정 리뷰입니다.\\n\".format((1 - score) * 100))"
      ],
      "execution_count": null,
      "outputs": []
    },
    {
      "cell_type": "code",
      "metadata": {
        "colab": {
          "base_uri": "https://localhost:8080/"
        },
        "id": "r6J8Dd5_Nnuy",
        "outputId": "32e78636-d073-4da0-f58a-709f44d07abf"
      },
      "source": [
        "sentiment_predict('이 영화 개꿀잼 ㅋㅋㅋ')\n",
        "sentiment_predict('흠... 잘 모르겠다')\n",
        "sentiment_predict('영화 안 본 눈 삽니다..')\n",
        "sentiment_predict('돈 아깝다')"
      ],
      "execution_count": 42,
      "outputs": [
        {
          "output_type": "stream",
          "text": [
            "95.78% 확률로 긍정 리뷰입니다.\n",
            "\n",
            "89.90% 확률로 부정 리뷰입니다.\n",
            "\n",
            "72.25% 확률로 부정 리뷰입니다.\n",
            "\n",
            "98.96% 확률로 부정 리뷰입니다.\n",
            "\n"
          ],
          "name": "stdout"
        }
      ]
    },
    {
      "cell_type": "code",
      "metadata": {
        "colab": {
          "base_uri": "https://localhost:8080/"
        },
        "id": "TIDoqCeaOAEa",
        "outputId": "ec9e0df8-d133-49cb-81bc-f0c63903a25c"
      },
      "source": [
        "sentiment_predict('아 열받아')"
      ],
      "execution_count": 43,
      "outputs": [
        {
          "output_type": "stream",
          "text": [
            "74.11% 확률로 부정 리뷰입니다.\n",
            "\n",
            "74.11% 확률로 부정 리뷰입니다.\n",
            "\n"
          ],
          "name": "stdout"
        }
      ]
    },
    {
      "cell_type": "code",
      "metadata": {
        "colab": {
          "base_uri": "https://localhost:8080/"
        },
        "id": "m9rywub9h930",
        "outputId": "d0c72b08-66bf-4307-9933-7a6111fc4fe9"
      },
      "source": [
        "sentiment_predict('이 라면 개꿀딱')"
      ],
      "execution_count": 44,
      "outputs": [
        {
          "output_type": "stream",
          "text": [
            "53.26% 확률로 긍정 리뷰입니다.\n",
            "\n"
          ],
          "name": "stdout"
        }
      ]
    },
    {
      "cell_type": "code",
      "metadata": {
        "colab": {
          "base_uri": "https://localhost:8080/"
        },
        "id": "G0DTcuI0iEIJ",
        "outputId": "912e22bc-a98f-481d-deb7-388c0d21ff33"
      },
      "source": [
        "sentiment_predict('황정민 못생겼다')"
      ],
      "execution_count": 45,
      "outputs": [
        {
          "output_type": "stream",
          "text": [
            "83.88% 확률로 부정 리뷰입니다.\n",
            "\n"
          ],
          "name": "stdout"
        }
      ]
    },
    {
      "cell_type": "code",
      "metadata": {
        "colab": {
          "base_uri": "https://localhost:8080/"
        },
        "id": "g4K27XAPiHQX",
        "outputId": "3c873df9-2c56-48e2-e31d-82d92aa67112"
      },
      "source": [
        "sentiment_predict('화질 쌉그지네')"
      ],
      "execution_count": 46,
      "outputs": [
        {
          "output_type": "stream",
          "text": [
            "74.60% 확률로 부정 리뷰입니다.\n",
            "\n"
          ],
          "name": "stdout"
        }
      ]
    }
  ]
}